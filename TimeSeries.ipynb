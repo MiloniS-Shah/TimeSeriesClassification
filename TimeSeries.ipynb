{
 "cells": [
  {
   "cell_type": "markdown",
   "metadata": {},
   "source": [
    "# Time series classification"
   ]
  },
  {
   "cell_type": "markdown",
   "metadata": {},
   "source": [
    "a) Download the AReM data from: https://archive.ics.uci.edu/ml/datasets/Activity+Recognition+system+based+on+Multisensor+data+fusion+\\%28AReM\\%29"
   ]
  },
  {
   "cell_type": "markdown",
   "metadata": {},
   "source": [
    "b) Keep datasets 1 and 2 in folders bending1 and bending 2, as well as datasets 1,2, and 3 in other folders as test data and other datasets as train data. <br>\n",
    "Splitting of data done"
   ]
  },
  {
   "cell_type": "markdown",
   "metadata": {},
   "source": [
    "c)Feature Extraction"
   ]
  },
  {
   "cell_type": "markdown",
   "metadata": {},
   "source": [
    "# ci)Research what types of time-domain features are usually used in time seriescclassification and list them\n",
    "Some of the time domain features used in classification are:\n",
    "1. Maximum value of series\n",
    "2. Minimum value of series\n",
    "3. Range\n",
    "4. Mean value of the time series\n",
    "5. Median\n",
    "6. Inter-quartile range\n",
    "7. Coefficient of Kurtosis\n",
    "8. First Quartile\n",
    "9. Third Quartile\n",
    "10. Coefficient of Skewness\n",
    "11. Number of positive/negative peaks\n",
    "12. Moving average component"
   ]
  },
  {
   "cell_type": "markdown",
   "metadata": {},
   "source": [
    "# cii) Extract the time-domain features minimum, maximum, mean, median, standard deviation, first quartile, and third quartile for all of the 6 time series in each instance"
   ]
  },
  {
   "cell_type": "code",
   "execution_count": 83,
   "metadata": {},
   "outputs": [],
   "source": [
    "import pandas as pd\n",
    "import numpy as np\n",
    "import os\n",
    "import sys\n",
    "d={}\n",
    "feat = ['mean','min','max','median','Q1','Q3','std']\n",
    "col = ['avg_rss12','var_rss12','avg_rss13','var_rss13','avg_rss23','var_rss23']\n",
    "for f in feat:\n",
    "    for c in col:\n",
    "        d[f+\"-\"+c]=[]\n",
    "d['activity']=[]\n",
    "        \n",
    "for activity in ['bending1','bending2','cycling','lying','sitting','standing','walking']:\n",
    "    path=\"C:\\\\Users\\milon\\Documents\\GitHub\\.ipynb_checkpoints\\{0}\".format(activity)\n",
    "    for filename in os.listdir(path):\n",
    "        df = pd.read_csv(path+'\\\\'+filename,skiprows=4,usecols=range(0,7))\n",
    "        #print(path+'\\\\'+filename)\n",
    "        for c in col:\n",
    "            d[\"mean-\"+c].append((np.mean(df[c])))\n",
    "            d[\"min-\"+c].append((np.min(df[c])))\n",
    "            d[\"max-\"+c].append((np.max(df[c])))\n",
    "            d[\"median-\"+c].append((np.median(df[c])))\n",
    "            d[\"Q1-\"+c].append((np.percentile(df[c],25)))\n",
    "            d[\"Q3-\"+c].append((np.percentile(df[c],75)))\n",
    "            d[\"std-\"+c].append((np.std(df[c])))\n",
    "        d['activity'].append(activity)\n",
    "frame=pd.DataFrame(d)"
   ]
  },
  {
   "cell_type": "code",
   "execution_count": 84,
   "metadata": {},
   "outputs": [
    {
     "data": {
      "text/plain": [
       "(88, 43)"
      ]
     },
     "execution_count": 84,
     "metadata": {},
     "output_type": "execute_result"
    }
   ],
   "source": [
    "frame.shape"
   ]
  },
  {
   "cell_type": "markdown",
   "metadata": {},
   "source": [
    "# ciii) Estimate the standard deviation of each of the time-domain features you extracted from the data"
   ]
  },
  {
   "cell_type": "code",
   "execution_count": 85,
   "metadata": {},
   "outputs": [
    {
     "name": "stdout",
     "output_type": "stream",
     "text": [
      "mean-avg_rss12      5.305314\n",
      "mean-var_rss12      1.565194\n",
      "mean-avg_rss13      3.985540\n",
      "mean-var_rss13      1.159470\n",
      "mean-avg_rss23      5.643253\n",
      "mean-var_rss23      1.148232\n",
      "min-avg_rss12       9.515445\n",
      "min-var_rss12       0.000000\n",
      "min-avg_rss13       2.939616\n",
      "min-var_rss13       0.000000\n",
      "min-avg_rss23       6.089107\n",
      "min-var_rss23       0.045577\n",
      "max-avg_rss12       4.369322\n",
      "max-var_rss12       5.033882\n",
      "max-avg_rss13       4.847358\n",
      "max-var_rss13       2.171183\n",
      "max-avg_rss23       5.708524\n",
      "max-var_rss23       2.504568\n",
      "median-avg_rss12    5.409056\n",
      "median-var_rss12    1.404197\n",
      "median-avg_rss13    4.013397\n",
      "median-var_rss13    1.139058\n",
      "median-avg_rss23    5.780655\n",
      "median-var_rss23    1.080284\n",
      "Q1-avg_rss12        6.118526\n",
      "Q1-var_rss12        0.940994\n",
      "Q1-avg_rss13        4.196608\n",
      "Q1-var_rss13        0.838813\n",
      "Q1-avg_rss23        6.061727\n",
      "Q1-var_rss23        0.754261\n",
      "Q3-avg_rss12        5.109643\n",
      "Q3-var_rss12        2.113157\n",
      "Q3-avg_rss13        4.147858\n",
      "Q3-var_rss13        1.543658\n",
      "Q3-avg_rss23        5.500200\n",
      "Q3-var_rss23        1.514918\n",
      "std-avg_rss12       1.760219\n",
      "std-var_rss12       0.878152\n",
      "std-avg_rss13       0.940335\n",
      "std-var_rss13       0.455156\n",
      "std-avg_rss23       1.017996\n",
      "std-var_rss23       0.514132\n",
      "dtype: float64\n"
     ]
    }
   ],
   "source": [
    "st_dev=np.std(frame)\n",
    "print((st_dev))"
   ]
  },
  {
   "cell_type": "code",
   "execution_count": 86,
   "metadata": {},
   "outputs": [],
   "source": [
    "frame.drop('activity',axis=1,inplace=True)"
   ]
  },
  {
   "cell_type": "markdown",
   "metadata": {},
   "source": [
    "# 90% Bootstrap Confidence Interval"
   ]
  },
  {
   "cell_type": "code",
   "execution_count": 87,
   "metadata": {},
   "outputs": [],
   "source": [
    "from scipy.stats import sem, t\n",
    "from scipy import mean\n",
    "from sklearn.utils import resample\n",
    "from matplotlib import pyplot\n",
    "import math \n",
    "c1={}\n",
    "c2={}\n",
    "stat=[]\n",
    "n=1000\n",
    "alpha = 0.90\n",
    "for colum in frame.columns.tolist():\n",
    "    boot=[]\n",
    "    for i in range(n):\n",
    "        re=resample(frame[colum], n_samples=88)\n",
    "        boot.append(np.std(re))\n",
    "    sortd=boot.sort()\n",
    "    c1[colum]=boot[49]\n",
    "    c2[colum]=boot[949]\n",
    "    #lower = max(0.0, np.percentile(sortd, p))\n",
    "    #p = (alpha+((1.0-alpha)/2.0)) * 100\n",
    "    #upper = min(1.0, np.percentile(sortd, p1))\n",
    "#print(c1)\n",
    "#print(c2)\n",
    "l1=pd.DataFrame.from_dict(c1,orient='index') \n",
    "u1=pd.DataFrame.from_dict(c2,orient='index')\n",
    "lower=l1.rename(columns={0:'Confidence Interval 5%'})\n",
    "upper=u1.rename(columns={0:'Confidence Interval 95%'})\n",
    "ci=lower.join(upper)\n",
    "std_dev=pd.DataFrame(st_dev).rename(columns={0:\"Standard Deviation\"})\n",
    "final=std_dev.join(ci)"
   ]
  },
  {
   "cell_type": "code",
   "execution_count": 88,
   "metadata": {},
   "outputs": [
    {
     "data": {
      "text/html": [
       "<div>\n",
       "<style scoped>\n",
       "    .dataframe tbody tr th:only-of-type {\n",
       "        vertical-align: middle;\n",
       "    }\n",
       "\n",
       "    .dataframe tbody tr th {\n",
       "        vertical-align: top;\n",
       "    }\n",
       "\n",
       "    .dataframe thead th {\n",
       "        text-align: right;\n",
       "    }\n",
       "</style>\n",
       "<table border=\"1\" class=\"dataframe\">\n",
       "  <thead>\n",
       "    <tr style=\"text-align: right;\">\n",
       "      <th></th>\n",
       "      <th>Standard Deviation</th>\n",
       "      <th>Confidence Interval 5%</th>\n",
       "      <th>Confidence Interval 95%</th>\n",
       "    </tr>\n",
       "  </thead>\n",
       "  <tbody>\n",
       "    <tr>\n",
       "      <th>mean-avg_rss12</th>\n",
       "      <td>5.305314</td>\n",
       "      <td>4.687328</td>\n",
       "      <td>5.856011</td>\n",
       "    </tr>\n",
       "    <tr>\n",
       "      <th>mean-var_rss12</th>\n",
       "      <td>1.565194</td>\n",
       "      <td>1.391510</td>\n",
       "      <td>1.695483</td>\n",
       "    </tr>\n",
       "    <tr>\n",
       "      <th>mean-avg_rss13</th>\n",
       "      <td>3.985540</td>\n",
       "      <td>3.426729</td>\n",
       "      <td>4.432370</td>\n",
       "    </tr>\n",
       "    <tr>\n",
       "      <th>mean-var_rss13</th>\n",
       "      <td>1.159470</td>\n",
       "      <td>1.074203</td>\n",
       "      <td>1.216716</td>\n",
       "    </tr>\n",
       "    <tr>\n",
       "      <th>mean-avg_rss23</th>\n",
       "      <td>5.643253</td>\n",
       "      <td>4.432935</td>\n",
       "      <td>6.678833</td>\n",
       "    </tr>\n",
       "    <tr>\n",
       "      <th>mean-var_rss23</th>\n",
       "      <td>1.148232</td>\n",
       "      <td>1.051968</td>\n",
       "      <td>1.208701</td>\n",
       "    </tr>\n",
       "    <tr>\n",
       "      <th>min-avg_rss12</th>\n",
       "      <td>9.515445</td>\n",
       "      <td>8.118492</td>\n",
       "      <td>10.710131</td>\n",
       "    </tr>\n",
       "    <tr>\n",
       "      <th>min-var_rss12</th>\n",
       "      <td>0.000000</td>\n",
       "      <td>0.000000</td>\n",
       "      <td>0.000000</td>\n",
       "    </tr>\n",
       "    <tr>\n",
       "      <th>min-avg_rss13</th>\n",
       "      <td>2.939616</td>\n",
       "      <td>2.737175</td>\n",
       "      <td>3.104544</td>\n",
       "    </tr>\n",
       "    <tr>\n",
       "      <th>min-var_rss13</th>\n",
       "      <td>0.000000</td>\n",
       "      <td>0.000000</td>\n",
       "      <td>0.000000</td>\n",
       "    </tr>\n",
       "    <tr>\n",
       "      <th>min-avg_rss23</th>\n",
       "      <td>6.089107</td>\n",
       "      <td>4.331448</td>\n",
       "      <td>7.496345</td>\n",
       "    </tr>\n",
       "    <tr>\n",
       "      <th>min-var_rss23</th>\n",
       "      <td>0.045577</td>\n",
       "      <td>0.000000</td>\n",
       "      <td>0.078029</td>\n",
       "    </tr>\n",
       "    <tr>\n",
       "      <th>max-avg_rss12</th>\n",
       "      <td>4.369322</td>\n",
       "      <td>3.319996</td>\n",
       "      <td>5.261646</td>\n",
       "    </tr>\n",
       "    <tr>\n",
       "      <th>max-var_rss12</th>\n",
       "      <td>5.033882</td>\n",
       "      <td>4.595558</td>\n",
       "      <td>5.357265</td>\n",
       "    </tr>\n",
       "    <tr>\n",
       "      <th>max-avg_rss13</th>\n",
       "      <td>4.847358</td>\n",
       "      <td>4.189727</td>\n",
       "      <td>5.430172</td>\n",
       "    </tr>\n",
       "    <tr>\n",
       "      <th>max-var_rss13</th>\n",
       "      <td>2.171183</td>\n",
       "      <td>1.953301</td>\n",
       "      <td>2.334121</td>\n",
       "    </tr>\n",
       "    <tr>\n",
       "      <th>max-avg_rss23</th>\n",
       "      <td>5.708524</td>\n",
       "      <td>4.745735</td>\n",
       "      <td>6.522764</td>\n",
       "    </tr>\n",
       "    <tr>\n",
       "      <th>max-var_rss23</th>\n",
       "      <td>2.504568</td>\n",
       "      <td>2.253856</td>\n",
       "      <td>2.737762</td>\n",
       "    </tr>\n",
       "    <tr>\n",
       "      <th>median-avg_rss12</th>\n",
       "      <td>5.409056</td>\n",
       "      <td>4.774593</td>\n",
       "      <td>6.021362</td>\n",
       "    </tr>\n",
       "    <tr>\n",
       "      <th>median-var_rss12</th>\n",
       "      <td>1.404197</td>\n",
       "      <td>1.220960</td>\n",
       "      <td>1.536261</td>\n",
       "    </tr>\n",
       "    <tr>\n",
       "      <th>median-avg_rss13</th>\n",
       "      <td>4.013397</td>\n",
       "      <td>3.380435</td>\n",
       "      <td>4.494966</td>\n",
       "    </tr>\n",
       "    <tr>\n",
       "      <th>median-var_rss13</th>\n",
       "      <td>1.139058</td>\n",
       "      <td>1.044173</td>\n",
       "      <td>1.196308</td>\n",
       "    </tr>\n",
       "    <tr>\n",
       "      <th>median-avg_rss23</th>\n",
       "      <td>5.780655</td>\n",
       "      <td>4.518887</td>\n",
       "      <td>6.882197</td>\n",
       "    </tr>\n",
       "    <tr>\n",
       "      <th>median-var_rss23</th>\n",
       "      <td>1.080284</td>\n",
       "      <td>0.989453</td>\n",
       "      <td>1.139981</td>\n",
       "    </tr>\n",
       "    <tr>\n",
       "      <th>Q1-avg_rss12</th>\n",
       "      <td>6.118526</td>\n",
       "      <td>5.540806</td>\n",
       "      <td>6.597261</td>\n",
       "    </tr>\n",
       "    <tr>\n",
       "      <th>Q1-var_rss12</th>\n",
       "      <td>0.940994</td>\n",
       "      <td>0.831418</td>\n",
       "      <td>1.025889</td>\n",
       "    </tr>\n",
       "    <tr>\n",
       "      <th>Q1-avg_rss13</th>\n",
       "      <td>4.196608</td>\n",
       "      <td>3.598241</td>\n",
       "      <td>4.632712</td>\n",
       "    </tr>\n",
       "    <tr>\n",
       "      <th>Q1-var_rss13</th>\n",
       "      <td>0.838813</td>\n",
       "      <td>0.774069</td>\n",
       "      <td>0.882045</td>\n",
       "    </tr>\n",
       "    <tr>\n",
       "      <th>Q1-avg_rss23</th>\n",
       "      <td>6.061727</td>\n",
       "      <td>4.704770</td>\n",
       "      <td>7.170438</td>\n",
       "    </tr>\n",
       "    <tr>\n",
       "      <th>Q1-var_rss23</th>\n",
       "      <td>0.754261</td>\n",
       "      <td>0.685943</td>\n",
       "      <td>0.801738</td>\n",
       "    </tr>\n",
       "    <tr>\n",
       "      <th>Q3-avg_rss12</th>\n",
       "      <td>5.109643</td>\n",
       "      <td>4.329364</td>\n",
       "      <td>5.814795</td>\n",
       "    </tr>\n",
       "    <tr>\n",
       "      <th>Q3-var_rss12</th>\n",
       "      <td>2.113157</td>\n",
       "      <td>1.869717</td>\n",
       "      <td>2.271460</td>\n",
       "    </tr>\n",
       "    <tr>\n",
       "      <th>Q3-avg_rss13</th>\n",
       "      <td>4.147858</td>\n",
       "      <td>3.537230</td>\n",
       "      <td>4.659611</td>\n",
       "    </tr>\n",
       "    <tr>\n",
       "      <th>Q3-var_rss13</th>\n",
       "      <td>1.543658</td>\n",
       "      <td>1.432219</td>\n",
       "      <td>1.615753</td>\n",
       "    </tr>\n",
       "    <tr>\n",
       "      <th>Q3-avg_rss23</th>\n",
       "      <td>5.500200</td>\n",
       "      <td>4.401348</td>\n",
       "      <td>6.491207</td>\n",
       "    </tr>\n",
       "    <tr>\n",
       "      <th>Q3-var_rss23</th>\n",
       "      <td>1.514918</td>\n",
       "      <td>1.397422</td>\n",
       "      <td>1.590699</td>\n",
       "    </tr>\n",
       "    <tr>\n",
       "      <th>std-avg_rss12</th>\n",
       "      <td>1.760219</td>\n",
       "      <td>1.565934</td>\n",
       "      <td>1.944260</td>\n",
       "    </tr>\n",
       "    <tr>\n",
       "      <th>std-var_rss12</th>\n",
       "      <td>0.878152</td>\n",
       "      <td>0.797838</td>\n",
       "      <td>0.937353</td>\n",
       "    </tr>\n",
       "    <tr>\n",
       "      <th>std-avg_rss13</th>\n",
       "      <td>0.940335</td>\n",
       "      <td>0.749715</td>\n",
       "      <td>1.121217</td>\n",
       "    </tr>\n",
       "    <tr>\n",
       "      <th>std-var_rss13</th>\n",
       "      <td>0.455156</td>\n",
       "      <td>0.416143</td>\n",
       "      <td>0.483054</td>\n",
       "    </tr>\n",
       "    <tr>\n",
       "      <th>std-avg_rss23</th>\n",
       "      <td>1.017996</td>\n",
       "      <td>0.788130</td>\n",
       "      <td>1.205063</td>\n",
       "    </tr>\n",
       "    <tr>\n",
       "      <th>std-var_rss23</th>\n",
       "      <td>0.514132</td>\n",
       "      <td>0.473956</td>\n",
       "      <td>0.542570</td>\n",
       "    </tr>\n",
       "  </tbody>\n",
       "</table>\n",
       "</div>"
      ],
      "text/plain": [
       "                  Standard Deviation  Confidence Interval 5%  \\\n",
       "mean-avg_rss12              5.305314                4.687328   \n",
       "mean-var_rss12              1.565194                1.391510   \n",
       "mean-avg_rss13              3.985540                3.426729   \n",
       "mean-var_rss13              1.159470                1.074203   \n",
       "mean-avg_rss23              5.643253                4.432935   \n",
       "mean-var_rss23              1.148232                1.051968   \n",
       "min-avg_rss12               9.515445                8.118492   \n",
       "min-var_rss12               0.000000                0.000000   \n",
       "min-avg_rss13               2.939616                2.737175   \n",
       "min-var_rss13               0.000000                0.000000   \n",
       "min-avg_rss23               6.089107                4.331448   \n",
       "min-var_rss23               0.045577                0.000000   \n",
       "max-avg_rss12               4.369322                3.319996   \n",
       "max-var_rss12               5.033882                4.595558   \n",
       "max-avg_rss13               4.847358                4.189727   \n",
       "max-var_rss13               2.171183                1.953301   \n",
       "max-avg_rss23               5.708524                4.745735   \n",
       "max-var_rss23               2.504568                2.253856   \n",
       "median-avg_rss12            5.409056                4.774593   \n",
       "median-var_rss12            1.404197                1.220960   \n",
       "median-avg_rss13            4.013397                3.380435   \n",
       "median-var_rss13            1.139058                1.044173   \n",
       "median-avg_rss23            5.780655                4.518887   \n",
       "median-var_rss23            1.080284                0.989453   \n",
       "Q1-avg_rss12                6.118526                5.540806   \n",
       "Q1-var_rss12                0.940994                0.831418   \n",
       "Q1-avg_rss13                4.196608                3.598241   \n",
       "Q1-var_rss13                0.838813                0.774069   \n",
       "Q1-avg_rss23                6.061727                4.704770   \n",
       "Q1-var_rss23                0.754261                0.685943   \n",
       "Q3-avg_rss12                5.109643                4.329364   \n",
       "Q3-var_rss12                2.113157                1.869717   \n",
       "Q3-avg_rss13                4.147858                3.537230   \n",
       "Q3-var_rss13                1.543658                1.432219   \n",
       "Q3-avg_rss23                5.500200                4.401348   \n",
       "Q3-var_rss23                1.514918                1.397422   \n",
       "std-avg_rss12               1.760219                1.565934   \n",
       "std-var_rss12               0.878152                0.797838   \n",
       "std-avg_rss13               0.940335                0.749715   \n",
       "std-var_rss13               0.455156                0.416143   \n",
       "std-avg_rss23               1.017996                0.788130   \n",
       "std-var_rss23               0.514132                0.473956   \n",
       "\n",
       "                  Confidence Interval 95%  \n",
       "mean-avg_rss12                   5.856011  \n",
       "mean-var_rss12                   1.695483  \n",
       "mean-avg_rss13                   4.432370  \n",
       "mean-var_rss13                   1.216716  \n",
       "mean-avg_rss23                   6.678833  \n",
       "mean-var_rss23                   1.208701  \n",
       "min-avg_rss12                   10.710131  \n",
       "min-var_rss12                    0.000000  \n",
       "min-avg_rss13                    3.104544  \n",
       "min-var_rss13                    0.000000  \n",
       "min-avg_rss23                    7.496345  \n",
       "min-var_rss23                    0.078029  \n",
       "max-avg_rss12                    5.261646  \n",
       "max-var_rss12                    5.357265  \n",
       "max-avg_rss13                    5.430172  \n",
       "max-var_rss13                    2.334121  \n",
       "max-avg_rss23                    6.522764  \n",
       "max-var_rss23                    2.737762  \n",
       "median-avg_rss12                 6.021362  \n",
       "median-var_rss12                 1.536261  \n",
       "median-avg_rss13                 4.494966  \n",
       "median-var_rss13                 1.196308  \n",
       "median-avg_rss23                 6.882197  \n",
       "median-var_rss23                 1.139981  \n",
       "Q1-avg_rss12                     6.597261  \n",
       "Q1-var_rss12                     1.025889  \n",
       "Q1-avg_rss13                     4.632712  \n",
       "Q1-var_rss13                     0.882045  \n",
       "Q1-avg_rss23                     7.170438  \n",
       "Q1-var_rss23                     0.801738  \n",
       "Q3-avg_rss12                     5.814795  \n",
       "Q3-var_rss12                     2.271460  \n",
       "Q3-avg_rss13                     4.659611  \n",
       "Q3-var_rss13                     1.615753  \n",
       "Q3-avg_rss23                     6.491207  \n",
       "Q3-var_rss23                     1.590699  \n",
       "std-avg_rss12                    1.944260  \n",
       "std-var_rss12                    0.937353  \n",
       "std-avg_rss13                    1.121217  \n",
       "std-var_rss13                    0.483054  \n",
       "std-avg_rss23                    1.205063  \n",
       "std-var_rss23                    0.542570  "
      ]
     },
     "execution_count": 88,
     "metadata": {},
     "output_type": "execute_result"
    }
   ],
   "source": [
    "final"
   ]
  },
  {
   "cell_type": "markdown",
   "metadata": {},
   "source": [
    "# d iv) Use your judgement to select the three most important time-domain features"
   ]
  },
  {
   "cell_type": "markdown",
   "metadata": {},
   "source": [
    "The three features being used further are:\n",
    "1. Mean- to capture the average values of the time series\n",
    "2. First Quartile- to see lower bound values of the series\n",
    "3. Max- to utilise the peak values of the time series"
   ]
  },
  {
   "cell_type": "code",
   "execution_count": 89,
   "metadata": {},
   "outputs": [],
   "source": [
    "feat = ['mean','min','max','median','Q1','Q3','std']\n",
    "col = ['avg_rss12','var_rss12','avg_rss13','var_rss13','avg_rss23','var_rss23']\n",
    "for f in feat:\n",
    "    for c in col:\n",
    "        d[f+\"-\"+c]=[]\n",
    "d['activity']=[]\n",
    "        \n",
    "for activity in ['bending1','bending2','cycling','lying','sitting','standing','walking']:\n",
    "    path=\"C:\\\\Users\\\\milon\\\\Documents\\\\GitHub\\\\.ipynb_checkpoints\\\\test\\{}\".format(activity)\n",
    "    for filename in os.listdir(path):\n",
    "        df = pd.read_csv(path+'\\\\'+filename,skiprows=4,usecols=range(0,7))\n",
    "        #print(path+'\\\\'+filename)\n",
    "        for c in col:\n",
    "            d[\"mean-\"+c].append((np.mean(df[c])))\n",
    "            d[\"min-\"+c].append((np.min(df[c])))\n",
    "            d[\"max-\"+c].append((np.max(df[c])))\n",
    "            d[\"median-\"+c].append((np.median(df[c])))\n",
    "            d[\"Q1-\"+c].append((np.percentile(df[c],25)))\n",
    "            d[\"Q3-\"+c].append((np.percentile(df[c],75)))\n",
    "            d[\"std-\"+c].append((np.std(df[c])))\n",
    "        d['activity'].append(activity)\n",
    "test=pd.DataFrame(d)"
   ]
  },
  {
   "cell_type": "code",
   "execution_count": 90,
   "metadata": {},
   "outputs": [
    {
     "data": {
      "text/plain": [
       "(19, 43)"
      ]
     },
     "execution_count": 90,
     "metadata": {},
     "output_type": "execute_result"
    }
   ],
   "source": [
    "test.shape"
   ]
  },
  {
   "cell_type": "code",
   "execution_count": 91,
   "metadata": {},
   "outputs": [],
   "source": [
    "for f in feat:\n",
    "    for c in col:\n",
    "        d[f+\"-\"+c]=[]\n",
    "d['activity']=[]\n",
    "        \n",
    "for activity in ['bending1','bending2','cycling','lying','sitting','standing','walking']:\n",
    "    path=\"C:\\\\Users\\\\milon\\\\Documents\\\\GitHub\\\\.ipynb_checkpoints\\\\train\\{0}\".format(activity)\n",
    "    for filename in os.listdir(path):\n",
    "        df = pd.read_csv(path+'\\\\'+filename,skiprows=4,usecols=range(0,7))\n",
    "        #print(path+'\\\\'+filename)\n",
    "        for c in col:\n",
    "            d[\"mean-\"+c].append((np.mean(df[c])))\n",
    "            d[\"min-\"+c].append((np.min(df[c])))\n",
    "            d[\"max-\"+c].append((np.max(df[c])))\n",
    "            d[\"median-\"+c].append((np.median(df[c])))\n",
    "            d[\"Q1-\"+c].append((np.percentile(df[c],25)))\n",
    "            d[\"Q3-\"+c].append((np.percentile(df[c],75)))\n",
    "            d[\"std-\"+c].append((np.std(df[c])))\n",
    "        d['activity'].append(activity)\n",
    "train=pd.DataFrame(d)"
   ]
  },
  {
   "cell_type": "code",
   "execution_count": 92,
   "metadata": {},
   "outputs": [
    {
     "data": {
      "text/plain": [
       "(69, 43)"
      ]
     },
     "execution_count": 92,
     "metadata": {},
     "output_type": "execute_result"
    }
   ],
   "source": [
    "train.shape"
   ]
  },
  {
   "cell_type": "markdown",
   "metadata": {},
   "source": [
    "# d) Binary Classification using Logistic Regression"
   ]
  },
  {
   "cell_type": "markdown",
   "metadata": {},
   "source": [
    "# d i)"
   ]
  },
  {
   "cell_type": "code",
   "execution_count": 93,
   "metadata": {},
   "outputs": [],
   "source": [
    "query1=[col for col in train.columns.tolist() if ((col.startswith('mean') or col.startswith('Q1') or col.startswith('max')) and (col.endswith('avg_rss12') or col.endswith('var_rss12') or col.endswith('var_rss23')) or col=='activity')]"
   ]
  },
  {
   "cell_type": "code",
   "execution_count": 94,
   "metadata": {},
   "outputs": [
    {
     "data": {
      "text/plain": [
       "['mean-avg_rss12',\n",
       " 'mean-var_rss12',\n",
       " 'mean-var_rss23',\n",
       " 'max-avg_rss12',\n",
       " 'max-var_rss12',\n",
       " 'max-var_rss23',\n",
       " 'Q1-avg_rss12',\n",
       " 'Q1-var_rss12',\n",
       " 'Q1-var_rss23',\n",
       " 'activity']"
      ]
     },
     "execution_count": 94,
     "metadata": {},
     "output_type": "execute_result"
    }
   ],
   "source": [
    "query1"
   ]
  },
  {
   "cell_type": "code",
   "execution_count": 95,
   "metadata": {},
   "outputs": [],
   "source": [
    "train['activity'] = np.where(((train['activity'] == 'bending1')|(train['activity'] == 'bending2')),'bending','not-bending')"
   ]
  },
  {
   "cell_type": "code",
   "execution_count": 96,
   "metadata": {},
   "outputs": [],
   "source": [
    "t1=train[query1]\n",
    "#print(t1)\n",
    "extra=pd.DataFrame()\n",
    "j=0\n",
    "k=1\n",
    "for c1 in t1.columns.tolist()[:-1]:\n",
    "    \n",
    "    for i in range(0,69):\n",
    "        extra.loc[j,'val'] = t1.loc[i,c1]\n",
    "        extra.loc[j,'col'] = str(k)\n",
    "        j = j + 1\n",
    "    k = k + 1"
   ]
  },
  {
   "cell_type": "code",
   "execution_count": 97,
   "metadata": {},
   "outputs": [],
   "source": [
    "j=0\n",
    "for i in range(0,621):\n",
    "    extra.loc[i,'activity'] = t1.loc[j,'activity']\n",
    "    j = j + 1\n",
    "    if j == 69:\n",
    "        j=0"
   ]
  },
  {
   "cell_type": "code",
   "execution_count": 98,
   "metadata": {},
   "outputs": [
    {
     "data": {
      "image/png": "[encoded data removed]",
      "text/plain": [
       "<Figure size 432x288 with 1 Axes>"
      ]
     },
     "metadata": {},
     "output_type": "display_data"
    }
   ],
   "source": [
    "import matplotlib.pyplot as plt\n",
    "extra['1/0'] = np.where(extra['activity'] == 'bending',1,0)\n",
    "sc=plt.scatter(extra['col'],extra['val'],c=extra['1/0'],cmap='plasma')\n",
    "plt.title('Scatterplot')\n",
    "plt.xlabel(\"The 9 columns obtained\")\n",
    "plt.show()"
   ]
  },
  {
   "cell_type": "markdown",
   "metadata": {},
   "source": [
    "After perfroming the binary classification, we can see from the scatter plot that \"Not Bending\" is depicted by \"Dark Blue\" and the \"Bending\" activities by \"Yellow\". Since, the number of instances for Not Bending are considerably more than those of Bending, it is an imbalanced class distribution. <br>\n",
    "I have divided the train having 69 rows twice, so obtained 9 columns in total which is the X-axis which are \n",
    " 'mean-avg_rss12',\n",
    " 'mean-var_rss12',\n",
    " 'mean-var_rss23',\n",
    " 'max-avg_rss12',\n",
    " 'max-var_rss12',\n",
    " 'max-var_rss23',\n",
    " 'Q1-avg_rss12',\n",
    " 'Q1-var_rss12',\n",
    " 'Q1-var_rss23'."
   ]
  },
  {
   "cell_type": "markdown",
   "metadata": {},
   "source": [
    "# d ii) Break each time series in your training set into two equal length time series"
   ]
  },
  {
   "cell_type": "code",
   "execution_count": 99,
   "metadata": {},
   "outputs": [],
   "source": [
    "d={}\n",
    "feat = ['mean','Q1','max']\n",
    "col = ['avg_rss12','var_rss12','var_rss23']\n",
    "for f in feat:\n",
    "    for c in col:\n",
    "        d[f+\"-\"+c]=[]\n",
    "d['activity']=[]\n",
    "\n",
    "for activity in ['bending1','bending2','cycling','lying','sitting','standing','walking']:\n",
    "    path=\"C:\\\\Users\\\\milon\\\\Documents\\\\GitHub\\\\.ipynb_checkpoints\\\\train\\{0}\".format(activity)\n",
    "    for filename in os.listdir(path):\n",
    "        df = pd.read_csv(path+'\\\\'+filename,skiprows=4,usecols=range(0,7))\n",
    "        split=np.array_split(df,2)\n",
    "        for s in split:\n",
    "            for c in col:\n",
    "                d[\"mean-\"+c].append((np.mean(s[c])))\n",
    "                d[\"Q1-\"+c].append((np.percentile(s[c],25)))\n",
    "                d[\"max-\"+c].append((np.max(s[c])))\n",
    "            \n",
    "            \n",
    "            d['activity'].append(activity)\n",
    "train1=pd.DataFrame(d)\n",
    "half=pd.DataFrame(train1)\n",
    "half['activity'] = np.where(((half['activity'] == 'bending1')|(half['activity'] == 'bending2')),'bending','not-bending')\n",
    "extra1=pd.DataFrame()\n",
    "j1=0\n",
    "k1=1\n",
    "for c2 in half.columns.tolist()[:-1]:\n",
    "    \n",
    "    for i in range(0,138):\n",
    "        extra1.loc[j1,'val'] = half.loc[i,c2]\n",
    "        extra1.loc[j1,'col'] = str(k1)\n",
    "        j1 = j1 + 1\n",
    "    k1 = k1 + 1\n",
    "#extra1\n",
    "\n",
    "j2=0\n",
    "for i in range(0,1242):\n",
    "    extra1.loc[i,'activity'] = half.loc[j2,'activity']\n",
    "    j2 = j2 + 1\n",
    "    if j2 == 138:\n",
    "        j2=0"
   ]
  },
  {
   "cell_type": "code",
   "execution_count": 100,
   "metadata": {},
   "outputs": [
    {
     "data": {
      "image/png": "[encoded data removed]",
      "text/plain": [
       "<Figure size 432x288 with 1 Axes>"
      ]
     },
     "metadata": {},
     "output_type": "display_data"
    }
   ],
   "source": [
    "import matplotlib.pyplot as plt\n",
    "extra1['1/0'] = np.where(extra1['activity'] == 'bending',1,0)\n",
    "sc1=plt.scatter(extra1['col'],extra1['val'],c=extra1['1/0'],cmap='plasma')\n",
    "plt.title('Scatterplot')\n",
    "plt.xlabel(\"The 9 columns obtained\")\n",
    "plt.show()"
   ]
  },
  {
   "cell_type": "markdown",
   "metadata": {},
   "source": [
    "There is no much considerable difference between the 2 scatter plots after dividing the training set into two equal length time series."
   ]
  },
  {
   "cell_type": "markdown",
   "metadata": {},
   "source": [
    "# d iii) Break each time series in your training set into l from (1,20) time series of approximately equal length and use logistic regression to solve the binary classification problem, using time-domain features\n"
   ]
  },
  {
   "cell_type": "code",
   "execution_count": 101,
   "metadata": {},
   "outputs": [],
   "source": [
    "from sklearn.cross_validation import StratifiedKFold\n",
    "from sklearn.model_selection import StratifiedKFold\n",
    "from sklearn.model_selection import KFold\n",
    "from sklearn.linear_model import LogisticRegression\n",
    "from sklearn.linear_model import LogisticRegressionCV\n",
    "from sklearn.metrics import roc_curve, auc\n",
    "from sklearn import preprocessing\n",
    "from sklearn.feature_selection import chi2, RFECV"
   ]
  },
  {
   "cell_type": "code",
   "execution_count": 102,
   "metadata": {},
   "outputs": [],
   "source": [
    "from sklearn.feature_selection import RFE\n",
    "from sklearn.svm import SVC\n",
    "feat = ['mean','Q1','max']\n",
    "col = ['avg_rss12','var_rss12','avg_rss13','var_rss13','avg_rss23','var_rss23']\n",
    "gi={}\n",
    "gj={}\n",
    "feats={}\n",
    "vi={}\n",
    "tr={}\n",
    "featss={}\n",
    "for l in range(1,21):\n",
    "    dt={}\n",
    "    for c in col:\n",
    "        for f in feat:\n",
    "            dt[c+\"_\"+f]=[]\n",
    "        dt['activity']=[]\n",
    "    for act in ['bending1','bending2','cycling','lying','sitting','standing','walking']:\n",
    "        path=\"C:\\\\Users\\\\milon\\\\Documents\\\\GitHub\\\\.ipynb_checkpoints\\\\train\\{0}\".format(act)\n",
    "        for filename in os.listdir(path):\n",
    "            df1=pd.read_csv(path+'\\\\'+filename,skiprows=4,usecols=range(0,7))\n",
    "            ss=np.array_split(df1,l)\n",
    "            for s in ss:\n",
    "                for c1 in col:\n",
    "                    dt[c1+\"_mean\"].append(np.mean(s[c1]))\n",
    "                    dt[c1+\"_Q1\"].append(np.percentile(s[c1],25))\n",
    "                    dt[c1+\"_max\"].append(np.max(s[c1]))\n",
    "                dt['activity'].append(act)\n",
    "    df_train = pd.DataFrame(dt)\n",
    "    df_train['activity'] = np.where(((df_train['activity'] == 'bending1')|(df_train['activity'] == 'bending2')),'bending','not-bending')\n",
    "    #df_train = df_train.sample(frac=1,random_state=123).reset_index(drop=True)\n",
    "    X = df_train.loc[:,df_train.columns!='activity']\n",
    "    y = df_train['activity']\n",
    "\n",
    "    auc1 = []\n",
    "    score1=[]\n",
    "    feats=[]\n",
    "    flist=[]\n",
    "    vallist=[]\n",
    "    trainlist=[]\n",
    "    pval=[]\n",
    "    kf = StratifiedKFold(n_splits=5)\n",
    "    for train_index,val_index in kf.split(X,y):\n",
    "        X_train, X_val = X.iloc[train_index.tolist(),:], X.iloc[val_index.tolist(),:]\n",
    "        y_train, y_val = y[train_index.tolist()], y[val_index.tolist()]\n",
    "        model = LogisticRegression()\n",
    "        r1 = RFECV(estimator=model,cv=StratifiedKFold(5),scoring='accuracy')\n",
    "        subset=r1.fit(X_train,y_train).ranking_==1\n",
    "        trainx=X_train.loc[:,subset]\n",
    "        trainval=X_val.loc[:,subset]\n",
    "        model = model.fit(trainx, y_train)\n",
    "        valid = [1 if i == 'bending' else 0 for i in y_val.tolist()]\n",
    "        predicted = [1 if i == 'bending' else 0 for i in model.predict(trainval).tolist()]\n",
    "        fpr, tpr, thershold = roc_curve(valid,predicted)\n",
    "        auc1.append(auc(fpr, tpr))\n",
    "        score1.append(model.score(trainval,y_val))\n",
    "        flist.append(trainx.columns)\n",
    "        vallist.append(val_index)\n",
    "        trainlist.append(train_index)\n",
    "    f,p=chi2(X_train,y_train)\n",
    "    pval.append(p)\n",
    "        #print(auc1)\n",
    "    gi[l] = np.mean(auc1)\n",
    "    gj[l]= np.mean(score1)   \n",
    "    featss[l]=subset[np.argmax(auc1)]\n",
    "    vi[l]=vallist[np.argmax(auc1)]\n",
    "    tr[l]=trainlist[np.argmax(auc1)]\n",
    "    "
   ]
  },
  {
   "cell_type": "code",
   "execution_count": 103,
   "metadata": {},
   "outputs": [
    {
     "name": "stdout",
     "output_type": "stream",
     "text": [
      "    Mean Score across the folds\n",
      "1                      0.942857\n",
      "2                      0.914021\n",
      "3                      0.893148\n",
      "4                      0.916364\n",
      "5                      0.924638\n",
      "6                      0.910696\n",
      "7                      0.902899\n",
      "8                      0.914660\n",
      "9                      0.925806\n",
      "10                     0.905797\n",
      "11                     0.892018\n",
      "12                     0.893728\n",
      "13                     0.909565\n",
      "14                     0.895337\n",
      "15                     0.901449\n",
      "16                     0.913052\n",
      "17                     0.886634\n",
      "18                     0.902471\n",
      "19                     0.909924\n",
      "20                     0.886232\n"
     ]
    }
   ],
   "source": [
    "tab = pd.DataFrame(gj,index=[0])\n",
    "tab= tab.T\n",
    "tab.rename(columns={0:'Mean Score across the folds'},inplace=True)\n",
    "print(tab)"
   ]
  },
  {
   "cell_type": "markdown",
   "metadata": {},
   "source": [
    "### From above, we get highest score for L=1"
   ]
  },
  {
   "cell_type": "code",
   "execution_count": 104,
   "metadata": {},
   "outputs": [
    {
     "name": "stdout",
     "output_type": "stream",
     "text": [
      "    Mean AUC across the folds\n",
      "1                    0.966667\n",
      "2                    0.900000\n",
      "3                    0.842222\n",
      "4                    0.866667\n",
      "5                    0.890556\n",
      "6                    0.851641\n",
      "7                    0.847253\n",
      "8                    0.843601\n",
      "9                    0.781713\n",
      "10                   0.752222\n",
      "11                   0.769793\n",
      "12                   0.770004\n",
      "13                   0.752885\n",
      "14                   0.762833\n",
      "15                   0.795370\n",
      "16                   0.819099\n",
      "17                   0.751828\n",
      "18                   0.809165\n",
      "19                   0.828122\n",
      "20                   0.738611\n"
     ]
    }
   ],
   "source": [
    "tab = pd.DataFrame(gi,index=[0])\n",
    "tab= tab.T\n",
    "tab.rename(columns={0:'Mean AUC across the folds'},inplace=True)\n",
    "print(tab)"
   ]
  },
  {
   "cell_type": "markdown",
   "metadata": {},
   "source": [
    "### From above, we get maximum AUC for L=1"
   ]
  },
  {
   "cell_type": "markdown",
   "metadata": {},
   "source": [
    "# P-values"
   ]
  },
  {
   "cell_type": "code",
   "execution_count": 105,
   "metadata": {},
   "outputs": [
    {
     "data": {
      "text/plain": [
       "[array([6.80899860e-002, 9.00506516e-002, 6.95164507e-003, 3.10961719e-010,\n",
       "        2.15720960e-008, 1.72620394e-021, 1.34132158e-018, 8.37680601e-017,\n",
       "        2.65897910e-016, 5.37307655e-007, 8.64380419e-008, 2.68403551e-005,\n",
       "        6.00980379e-245, 9.51325299e-286, 1.48288861e-159, 6.39050312e-013,\n",
       "        5.51350496e-011, 8.30663967e-025])]"
      ]
     },
     "execution_count": 105,
     "metadata": {},
     "output_type": "execute_result"
    }
   ],
   "source": [
    "pval"
   ]
  },
  {
   "cell_type": "markdown",
   "metadata": {},
   "source": [
    "# Backward Selection using L=1, here instead of K fold CV, I am using Stratified Cross Validation since there is an imbalance in the classes as observed from the scatter plots too."
   ]
  },
  {
   "cell_type": "code",
   "execution_count": 106,
   "metadata": {},
   "outputs": [],
   "source": [
    "from sklearn.feature_selection import RFE\n",
    "from sklearn.svm import SVC\n",
    "l=1\n",
    "dtrain={}\n",
    "feat = ['mean','Q1','max']\n",
    "col = ['avg_rss12','var_rss12','avg_rss13','var_rss13','avg_rss23','var_rss23']\n",
    "for f in feat:\n",
    "    for c in col:\n",
    "        dtrain[f+\"-\"+c]=[]\n",
    "dtrain['activity']=[]\n",
    "\n",
    "for act in ['bending1','bending2','cycling','lying','sitting','standing','walking']:\n",
    "        path=\"C:\\\\Users\\\\milon\\\\Documents\\\\GitHub\\\\.ipynb_checkpoints\\\\train\\{0}\".format(act)\n",
    "        for filename in os.listdir(path):\n",
    "            df1=pd.read_csv(path+'\\\\'+filename,skiprows=4,usecols=range(0,7))\n",
    "            sss=np.array_split(df1,l)\n",
    "            for s in sss:\n",
    "                for c6 in col:\n",
    "                    dtrain[\"mean-\"+c6].append(np.mean(s[c6]))\n",
    "                    dtrain[\"Q1-\"+c6].append(np.percentile(s[c6],25))\n",
    "                    dtrain[\"max-\"+c6].append(np.max(s[c6]))\n",
    "                dtrain['activity'].append(act)\n",
    "df_train = pd.DataFrame(dtrain)\n",
    "df_train['activity'] = np.where(((df_train['activity'] == 'bending1')|(df_train['activity'] == 'bending2')),'bending','not-bending')\n",
    "#df_train = df_train.sample(frac=1,random_state=123).reset_index(drop=True)\n",
    "X = df_train.loc[:,df_train.columns!='activity']\n",
    "y = df_train['activity']\n",
    "auc1 = []\n",
    "variables = []\n",
    "l1 = []\n",
    "l2 = []\n",
    "\n",
    "kf = StratifiedKFold(n_splits=5)\n",
    "\n",
    "for train_index,val_index in kf.split(X,y):\n",
    "    X_train, X_val = X.iloc[train_index.tolist(),:], X.iloc[val_index.tolist(),:]\n",
    "    y_train, y_val = y[train_index.tolist()], y[val_index.tolist()]\n",
    "    if len(np.unique(y_val)) == 1:\n",
    "        continue\n",
    "    model = LogisticRegression()\n",
    "    rfe = RFE(model,6,step=1)\n",
    "\n",
    "    subset = rfe.fit(X_train, y_train).ranking_ == 1\n",
    "    X_train = X_train.loc[:,subset]\n",
    "    X_val = X_val.loc[:,subset]\n",
    "    model = model.fit(X_train, y_train)\n",
    "    actual1=[]\n",
    "    pred1=[]\n",
    "    for i2 in y_val.tolist():\n",
    "        if i2==\"bending\":\n",
    "            actual1.append(1)\n",
    "        else:\n",
    "            actual1.append(0)\n",
    "    for i3 in model.predict(X_val).tolist():\n",
    "        if i3==\"bending\":\n",
    "            pred1.append(1)\n",
    "        else:\n",
    "            pred1.append(0) \n",
    "    \n",
    "    f1, t1, _ = roc_curve(actual1,pred1)\n",
    "    auc1.append(auc(f1, t1))\n",
    "    variables.append(X_train.columns.tolist())\n",
    "    l1.append(train_index.tolist())\n",
    "    l2.append(val_index.tolist())\n",
    "tup = tuple(zip(auc1,variables,l1,l2))"
   ]
  },
  {
   "cell_type": "code",
   "execution_count": 107,
   "metadata": {},
   "outputs": [
    {
     "data": {
      "text/plain": [
       "[1.0, 0.9583333333333333, 0.9583333333333333, 1.0, 1.0]"
      ]
     },
     "execution_count": 107,
     "metadata": {},
     "output_type": "execute_result"
    }
   ],
   "source": [
    "auc1"
   ]
  },
  {
   "cell_type": "markdown",
   "metadata": {},
   "source": [
    "Above we performed Stratified Cross Validation and then feature subset selection using Recursive Feature Elimination to the Logistic Regression problem. <br>\n",
    "The right way is within the Cross Validation use perfrom Feature Selection.\n",
    "The correct way of performing cross validation in this scenario is to find the best L. After finding the best L, run 5-fold cross validation again to find the best feature subset by running the logistic regression model with a different subset of features on each fold. <br>\n",
    "The wrong way of doing it is, after the completion of Cross Validation selecting the best features would be incorrect."
   ]
  },
  {
   "cell_type": "markdown",
   "metadata": {},
   "source": [
    "# d iv) Report the confusion matrix and show the ROC and AUC for your classifier on train data. Report the parameters of your logistic regression as well as the p-values associated with them"
   ]
  },
  {
   "cell_type": "code",
   "execution_count": 108,
   "metadata": {},
   "outputs": [
    {
     "name": "stdout",
     "output_type": "stream",
     "text": [
      "['mean-avg_rss12', 'mean-avg_rss13', 'mean-avg_rss23', 'Q1-avg_rss23', 'max-avg_rss23', 'max-var_rss23']\n"
     ]
    }
   ],
   "source": [
    "L = 1\n",
    "feature_subset = tup[0][1]\n",
    "train_index = tup[0][2]\n",
    "val_index = tup[0][3]\n",
    "d7 = {}\n",
    "feat = ['mean','Q1','max']\n",
    "col = ['avg_rss12','var_rss12','avg_rss13','var_rss13','avg_rss23','var_rss23']\n",
    "for f in feat:\n",
    "    for c in col:\n",
    "        d7[f+\"-\"+c]=[]\n",
    "d7['activity']=[]\n",
    "for act in ['bending1','bending2','cycling','lying','sitting','standing','walking']:\n",
    "        path=\"C:\\\\Users\\\\milon\\\\Documents\\\\GitHub\\\\.ipynb_checkpoints\\\\train\\{0}\".format(act)\n",
    "        for filename in os.listdir(path):\n",
    "            df1=pd.read_csv(path+'\\\\'+filename,skiprows=4,usecols=range(0,7))\n",
    "            sss=np.array_split(df1,l)\n",
    "            for s1 in sss:\n",
    "                for c6 in col:\n",
    "                    d7[\"mean-\"+c6].append(np.mean(s1[c6]))\n",
    "                    d7[\"Q1-\"+c6].append(np.percentile(s1[c6],25))\n",
    "                    d7[\"max-\"+c6].append(np.max(s1[c6]))\n",
    "                d7['activity'].append(act)\n",
    "df_train = pd.DataFrame(d7)\n",
    "print(feature_subset)"
   ]
  },
  {
   "cell_type": "code",
   "execution_count": 109,
   "metadata": {},
   "outputs": [],
   "source": [
    "df_train['activity'] = np.where(((df_train['activity'] == 'bending1')|(df_train['activity'] == 'bending2')),'bending','not-bending')\n",
    "df_train = df_train.sample(frac=1,random_state=123).reset_index(drop=True)\n",
    "X = df_train.loc[:,df_train.columns!='activity']\n",
    "X = X[feature_subset]\n",
    "y = df_train['activity']\n",
    "X_train, X_val = X.iloc[train_index,:], X.iloc[val_index,:]\n",
    "y_train, y_val = y[train_index], y[val_index]"
   ]
  },
  {
   "cell_type": "code",
   "execution_count": 110,
   "metadata": {},
   "outputs": [],
   "source": [
    "log1 = LogisticRegression()\n",
    "model = log1.fit(X_train, y_train)\n",
    "actual2 = [1 if i == 'bending' else 0 for i in y_val.tolist()]\n",
    "predicted2 = [1 if i == 'bending' else 0 for i in model.predict(X_val).tolist()]"
   ]
  },
  {
   "cell_type": "code",
   "execution_count": 111,
   "metadata": {},
   "outputs": [
    {
     "name": "stdout",
     "output_type": "stream",
     "text": [
      "[[11  0]\n",
      " [ 0  3]]\n"
     ]
    }
   ],
   "source": [
    "from sklearn import metrics\n",
    "from sklearn.metrics import roc_curve, auc, confusion_matrix, classification_report\n",
    "cm = metrics.confusion_matrix(actual2,predicted2)\n",
    "print(cm)"
   ]
  },
  {
   "cell_type": "code",
   "execution_count": 112,
   "metadata": {},
   "outputs": [
    {
     "name": "stdout",
     "output_type": "stream",
     "text": [
      "1.0\n"
     ]
    }
   ],
   "source": [
    "f2, t2, _ = roc_curve(actual2,predicted2)\n",
    "r2 = auc(f2, t2)\n",
    "print(r2)"
   ]
  },
  {
   "cell_type": "markdown",
   "metadata": {},
   "source": [
    "# ROC and AUC, Co-efficients, P-values"
   ]
  },
  {
   "cell_type": "code",
   "execution_count": 113,
   "metadata": {},
   "outputs": [
    {
     "data": {
      "image/png": "[encoded data removed]",
      "text/plain": [
       "<Figure size 432x288 with 1 Axes>"
      ]
     },
     "metadata": {},
     "output_type": "display_data"
    }
   ],
   "source": [
    "plt.figure()\n",
    "plt.plot(f2, t2, color='orange',label='ROC curve (area = %0.2f)' % r2)\n",
    "plt.plot([0, 1], [0, 1], color='blue')\n",
    "plt.xlabel('False Positive Rate')\n",
    "plt.ylabel('True Positive Rate')\n",
    "plt.title('ROC Curve')\n",
    "plt.legend()\n",
    "plt.show()"
   ]
  },
  {
   "cell_type": "code",
   "execution_count": 114,
   "metadata": {},
   "outputs": [
    {
     "data": {
      "text/html": [
       "<div>\n",
       "<style scoped>\n",
       "    .dataframe tbody tr th:only-of-type {\n",
       "        vertical-align: middle;\n",
       "    }\n",
       "\n",
       "    .dataframe tbody tr th {\n",
       "        vertical-align: top;\n",
       "    }\n",
       "\n",
       "    .dataframe thead th {\n",
       "        text-align: right;\n",
       "    }\n",
       "</style>\n",
       "<table border=\"1\" class=\"dataframe\">\n",
       "  <thead>\n",
       "    <tr style=\"text-align: right;\">\n",
       "      <th></th>\n",
       "      <th>Features</th>\n",
       "      <th>Coefficient</th>\n",
       "    </tr>\n",
       "  </thead>\n",
       "  <tbody>\n",
       "    <tr>\n",
       "      <th>0</th>\n",
       "      <td>mean-avg_rss12</td>\n",
       "      <td>0.618748</td>\n",
       "    </tr>\n",
       "    <tr>\n",
       "      <th>1</th>\n",
       "      <td>mean-avg_rss13</td>\n",
       "      <td>0.486389</td>\n",
       "    </tr>\n",
       "    <tr>\n",
       "      <th>2</th>\n",
       "      <td>mean-avg_rss23</td>\n",
       "      <td>-0.375408</td>\n",
       "    </tr>\n",
       "    <tr>\n",
       "      <th>3</th>\n",
       "      <td>Q1-avg_rss23</td>\n",
       "      <td>-0.501882</td>\n",
       "    </tr>\n",
       "    <tr>\n",
       "      <th>4</th>\n",
       "      <td>max-avg_rss23</td>\n",
       "      <td>-0.628027</td>\n",
       "    </tr>\n",
       "    <tr>\n",
       "      <th>5</th>\n",
       "      <td>max-var_rss23</td>\n",
       "      <td>0.584346</td>\n",
       "    </tr>\n",
       "  </tbody>\n",
       "</table>\n",
       "</div>"
      ],
      "text/plain": [
       "         Features  Coefficient\n",
       "0  mean-avg_rss12     0.618748\n",
       "1  mean-avg_rss13     0.486389\n",
       "2  mean-avg_rss23    -0.375408\n",
       "3    Q1-avg_rss23    -0.501882\n",
       "4   max-avg_rss23    -0.628027\n",
       "5   max-var_rss23     0.584346"
      ]
     },
     "execution_count": 114,
     "metadata": {},
     "output_type": "execute_result"
    }
   ],
   "source": [
    "coef = pd.DataFrame({\"Features\":feature_subset,\"Coefficient\":model.coef_[0].tolist()})\n",
    "coef[['Features','Coefficient']]"
   ]
  },
  {
   "cell_type": "code",
   "execution_count": 115,
   "metadata": {},
   "outputs": [
    {
     "name": "stdout",
     "output_type": "stream",
     "text": [
      "[9.67967873e-01 6.83755707e-02 5.96129567e-10 2.36650487e-12\n",
      " 3.03109728e-09 2.55865385e-01]\n"
     ]
    }
   ],
   "source": [
    "from sklearn.feature_selection import chi2\n",
    "f,p=chi2(X_train,y_train)\n",
    "print(p)"
   ]
  },
  {
   "cell_type": "markdown",
   "metadata": {},
   "source": [
    "# d v)Test the classifier on the test set."
   ]
  },
  {
   "cell_type": "code",
   "execution_count": 116,
   "metadata": {},
   "outputs": [],
   "source": [
    "d={}\n",
    "feat = ['mean','max','Q1']\n",
    "col = ['avg_rss12','var_rss12','avg_rss13','var_rss13','avg_rss23','var_rss23']\n",
    "for f in feat:\n",
    "    for c in col:\n",
    "        d[f+\"-\"+c]=[]\n",
    "d['activity']=[]\n",
    "        \n",
    "for activity in ['bending1','bending2','cycling','lying','sitting','standing','walking']:\n",
    "    path=\"C:\\\\Users\\\\milon\\\\Documents\\\\GitHub\\\\.ipynb_checkpoints\\\\test\\{0}\".format(activity)\n",
    "    for filename in os.listdir(path):\n",
    "        df = pd.read_csv(path+'\\\\'+filename,skiprows=4,usecols=range(0,7))\n",
    "        #print(path+'\\\\'+filename)\n",
    "        for c in col:\n",
    "            d[\"mean-\"+c].append((np.mean(df[c])))\n",
    "            \n",
    "            d[\"max-\"+c].append((np.max(df[c])))\n",
    "            d[\"Q1-\"+c].append((np.percentile(df[c],25)))\n",
    "            \n",
    "        d['activity'].append(activity)\n",
    "test=pd.DataFrame(d)\n",
    "df_test = pd.DataFrame(test)\n",
    "df_test['activity'] = np.where(((df_test['activity'] == 'bending1')|(df_test['activity'] == 'bending2')),'bending','not-bending')\n",
    "X1 = df_test.loc[:,df_test.columns!='activity']\n",
    "y1 = df_test['activity']\n",
    "X1 = X1[feature_subset]"
   ]
  },
  {
   "cell_type": "code",
   "execution_count": 117,
   "metadata": {},
   "outputs": [],
   "source": [
    "#df_train"
   ]
  },
  {
   "cell_type": "code",
   "execution_count": 118,
   "metadata": {},
   "outputs": [],
   "source": [
    "feature_subset.append('activity')"
   ]
  },
  {
   "cell_type": "code",
   "execution_count": 119,
   "metadata": {},
   "outputs": [],
   "source": [
    "df_train = df_train[feature_subset]\n",
    "df_test = df_test[feature_subset]"
   ]
  },
  {
   "cell_type": "code",
   "execution_count": 120,
   "metadata": {},
   "outputs": [],
   "source": [
    "#df_test"
   ]
  },
  {
   "cell_type": "code",
   "execution_count": 121,
   "metadata": {},
   "outputs": [
    {
     "name": "stdout",
     "output_type": "stream",
     "text": [
      "Confusion Matrix for the test set: \n",
      "[[15  0]\n",
      " [ 0  4]]\n",
      "AUC for the test set: \n",
      "1.0\n",
      "Accuracy= 1.0\n"
     ]
    }
   ],
   "source": [
    "X_train9 = df_train.loc[:,df_train.columns!='activity']\n",
    "y_train9 = df_train['activity']\n",
    "X_test9 = df_test.loc[:,df_test.columns!='activity']\n",
    "y_test9 = df_test['activity']\n",
    "\n",
    "model4 = LogisticRegression()\n",
    "model4 = model4.fit(X_train9, y_train9)\n",
    "actual4 = [1 if i == 'bending' else 0 for i in y_test9.tolist()]\n",
    "predicted4 = [1 if i == 'bending' else 0 for i in model4.predict(X_test9).tolist()]\n",
    "\n",
    "cm1 = metrics.confusion_matrix(actual4,predicted4)\n",
    "print(\"Confusion Matrix for the test set: \")\n",
    "print(cm1)\n",
    "\n",
    "f4, t4, _ = roc_curve(actual4,predicted4)\n",
    "r4 = auc(f4, t4)\n",
    "print(\"AUC for the test set: \")\n",
    "print(r4)\n",
    "print(\"Accuracy=\",model4.score(X_test9,y_test9))"
   ]
  },
  {
   "cell_type": "markdown",
   "metadata": {},
   "source": [
    "On the training set, we get accuracy equal to 1. And on the test set, we get accuracy equal to 1.0. It implies that the model is testing and training properly leading to complete accuracy."
   ]
  },
  {
   "cell_type": "markdown",
   "metadata": {},
   "source": [
    "# d vi Do your classes seem to be well-separated to cause instability in calculating logistic regression parameters?"
   ]
  },
  {
   "cell_type": "markdown",
   "metadata": {},
   "source": [
    "In the cross validation folds, it can be understood that the classes are not evenly distributed. There is a significant class imbalance. I have randomly shuffled the data ie used sample to try and capture the minority classses. This helped in reducing the instability in the parameters of logistic regression. As seen in the code, I have used continue and if len(np.unique(y_val)) == 1: to bypass the validation errors for some. There is class imbalance for L=1 also, there I have used StratifiedKFold Validation."
   ]
  },
  {
   "cell_type": "markdown",
   "metadata": {},
   "source": [
    "# d vii Build a logistic regression model based on case-control sampling and adjust its parameters. Report the confusion matrix, ROC, and AUC of the model"
   ]
  },
  {
   "cell_type": "code",
   "execution_count": 122,
   "metadata": {},
   "outputs": [
    {
     "name": "stdout",
     "output_type": "stream",
     "text": [
      "Confusion Matrix for the test set: \n",
      "[[15  0]\n",
      " [ 0  4]]\n",
      "AUC for the test set: \n",
      "1.0\n",
      "Accuracy= 1.0\n"
     ]
    }
   ],
   "source": [
    "X_train = df_train.loc[:,df_train.columns!='activity']\n",
    "y_train = df_train['activity']\n",
    "X_test = df_test.loc[:,df_test.columns!='activity']\n",
    "y_test = df_test['activity']\n",
    "\n",
    "model = LogisticRegression(class_weight='balanced')\n",
    "model = model.fit(X_train, y_train)\n",
    "actual = [1 if i == 'bending' else 0 for i in y_test.tolist()]\n",
    "predicted = [1 if i == 'bending' else 0 for i in model.predict(X_test).tolist()]\n",
    "\n",
    "cm = metrics.confusion_matrix(actual,predicted)\n",
    "print(\"Confusion Matrix for the test set: \")\n",
    "print(cm)\n",
    "\n",
    "fpr, tpr, _ = roc_curve(actual,predicted)\n",
    "roc_auc = auc(fpr, tpr)\n",
    "print(\"AUC for the test set: \")\n",
    "print(roc_auc)\n",
    "print(\"Accuracy=\",model.score(X_train,y_train))"
   ]
  },
  {
   "cell_type": "markdown",
   "metadata": {},
   "source": [
    "# Used class_weight='balanced' above"
   ]
  },
  {
   "cell_type": "code",
   "execution_count": 123,
   "metadata": {},
   "outputs": [
    {
     "data": {
      "image/png": "[encoded data removed]",
      "text/plain": [
       "<Figure size 432x288 with 1 Axes>"
      ]
     },
     "metadata": {},
     "output_type": "display_data"
    }
   ],
   "source": [
    "fpr, tpr, _ = roc_curve(actual,predicted)\n",
    "roc_auc = auc(fpr, tpr)\n",
    "plt.figure()\n",
    "plt.plot(fpr, tpr, color='darkorange', label='ROC curve (area = %0.2f)' % roc_auc)\n",
    "plt.plot([0, 1], [0, 1], color='red')\n",
    "plt.xlabel('False Positive Rate')\n",
    "plt.ylabel('True Positive Rate')\n",
    "plt.title('ROC Curve')\n",
    "plt.legend(loc=\"lower right\")\n",
    "plt.show()"
   ]
  },
  {
   "cell_type": "markdown",
   "metadata": {},
   "source": [
    "# e i Binary Classification using L1-penalized Logistic Regression\n",
    "Using Stratified Cross validation both on L and C (set by default to be ten values in a logarithmic scale between 1e-4 and 1e4 by sklearn) and Normalizing each feature to [0,1] scale."
   ]
  },
  {
   "cell_type": "code",
   "execution_count": 124,
   "metadata": {},
   "outputs": [],
   "source": [
    "d={}\n",
    "feat = ['mean','max','median']\n",
    "col = ['avg_rss12','var_rss12','var_rss23']\n",
    "for l in range(1,21,1):\n",
    "    dtrain={}\n",
    "    for f in feat:\n",
    "        for c in col:\n",
    "            d[f+\"-\"+c]=[]\n",
    "    d['activity']=[]"
   ]
  },
  {
   "cell_type": "code",
   "execution_count": 125,
   "metadata": {},
   "outputs": [],
   "source": [
    "w={}\n",
    "params = ['mean','median','max']\n",
    "var1 = ['avg_rss12','var_rss12','avg_rss13','var_rss13','avg_rss23','var_rss23']\n",
    "for l in range(1,21):\n",
    "    d_train = {}\n",
    "    for v in var1:\n",
    "        for p in params:\n",
    "            d_train[v+\"_\"+p] = []\n",
    "    d_train['activity'] = []\n",
    "    \n",
    "    for activity in ['bending1','bending2','cycling','lying','sitting','standing','walking']:\n",
    "        path=\"C:\\\\Users\\\\milon\\\\Documents\\\\GitHub\\\\.ipynb_checkpoints\\\\train\\{0}\".format(activity)\n",
    "        for filename in os.listdir(path):\n",
    "            df = pd.read_csv(path+'\\\\'+filename,skiprows=4,usecols=range(0,7))\n",
    "            #print(path+'\\\\'+filename)\n",
    "            df_l=np.array_split(df,l)\n",
    "            for li in df_l:\n",
    "                for v in var1:\n",
    "                    d_train[v+\"_mean\"].append((np.mean(df[v])))\n",
    "            \n",
    "                    d_train[v+\"_median\"].append((np.median(df[v])))\n",
    "                    d_train[v+\"_max\"].append((np.max(df[v])))\n",
    "                d_train['activity'].append(activity)\n",
    "    df_train = pd.DataFrame(d_train)\n",
    "    df_train['activity'] = np.where(((df_train['activity'] == 'bending1')|(df_train['activity'] == 'bending2')),'bending','not-bending')\n",
    "    \n",
    "    df_train = df_train.sample(frac=1,random_state=123).reset_index(drop=True)\n",
    "    X = df_train.loc[:,df_train.columns!='activity']\n",
    "    y = df_train['activity']\n",
    "    \n",
    "    x=X.values\n",
    "    norm=preprocessing.MinMaxScaler()\n",
    "    scaled=norm.fit_transform(x)\n",
    "    X=pd.DataFrame(scaled,columns=X.columns) \n",
    "    \n",
    "    a1=[]\n",
    "    c1=[]\n",
    "    \n",
    "    cv1=StratifiedKFold(n_splits=5)\n",
    "    for train_index,val_index in cv1.split(X,y):\n",
    "        X_train, X_val = X.iloc[train_index.tolist(),:], X.iloc[val_index.tolist(),:]\n",
    "        y_train, y_val = y[train_index.tolist()], y[val_index.tolist()]\n",
    "        if len(np.unique(y_val)) == 1:\n",
    "            continue\n",
    "        \n",
    "        reg2 = LogisticRegressionCV(Cs=10,penalty='l1',solver='liblinear')\n",
    "        lr = reg2.fit(X_train, y_train)\n",
    "        actual0 = [1 if i == 'bending' else 0 for i in y_val.tolist()]\n",
    "        predicted0 = [1 if i == 'bending' else 0 for i in lr.predict(X_val).tolist()]\n",
    "        fpr, tpr, _ = roc_curve(actual0,predicted0)\n",
    "        a1.append(auc(fpr, tpr))\n",
    "        c1.append(lr.C_)\n",
    "    \n",
    "    w[l]=tuple(zip(a1,c1))"
   ]
  },
  {
   "cell_type": "code",
   "execution_count": 126,
   "metadata": {},
   "outputs": [],
   "source": [
    "auc2 = []\n",
    "C1 = []\n",
    "for i in w.keys():\n",
    "    for j in range(0,5):\n",
    "        auc2.append(w[i][j][0])\n",
    "for i in w.keys():\n",
    "    for j in range(0,5):\n",
    "        C1.append(w[i][j][1][0])"
   ]
  },
  {
   "cell_type": "code",
   "execution_count": 127,
   "metadata": {},
   "outputs": [
    {
     "data": {
      "text/html": [
       "<div>\n",
       "<style scoped>\n",
       "    .dataframe tbody tr th:only-of-type {\n",
       "        vertical-align: middle;\n",
       "    }\n",
       "\n",
       "    .dataframe tbody tr th {\n",
       "        vertical-align: top;\n",
       "    }\n",
       "\n",
       "    .dataframe thead th {\n",
       "        text-align: right;\n",
       "    }\n",
       "</style>\n",
       "<table border=\"1\" class=\"dataframe\">\n",
       "  <thead>\n",
       "    <tr style=\"text-align: right;\">\n",
       "      <th></th>\n",
       "      <th>CV AUC</th>\n",
       "      <th>Optimal C</th>\n",
       "      <th>L</th>\n",
       "    </tr>\n",
       "  </thead>\n",
       "  <tbody>\n",
       "    <tr>\n",
       "      <th>0</th>\n",
       "      <td>1.000</td>\n",
       "      <td>2.782559</td>\n",
       "      <td>1</td>\n",
       "    </tr>\n",
       "    <tr>\n",
       "      <th>1</th>\n",
       "      <td>0.750</td>\n",
       "      <td>2.782559</td>\n",
       "      <td>1</td>\n",
       "    </tr>\n",
       "    <tr>\n",
       "      <th>2</th>\n",
       "      <td>1.000</td>\n",
       "      <td>2.782559</td>\n",
       "      <td>1</td>\n",
       "    </tr>\n",
       "    <tr>\n",
       "      <th>3</th>\n",
       "      <td>1.000</td>\n",
       "      <td>2.782559</td>\n",
       "      <td>1</td>\n",
       "    </tr>\n",
       "    <tr>\n",
       "      <th>4</th>\n",
       "      <td>0.500</td>\n",
       "      <td>2.782559</td>\n",
       "      <td>1</td>\n",
       "    </tr>\n",
       "    <tr>\n",
       "      <th>5</th>\n",
       "      <td>0.875</td>\n",
       "      <td>2.782559</td>\n",
       "      <td>2</td>\n",
       "    </tr>\n",
       "    <tr>\n",
       "      <th>6</th>\n",
       "      <td>0.750</td>\n",
       "      <td>2.782559</td>\n",
       "      <td>2</td>\n",
       "    </tr>\n",
       "    <tr>\n",
       "      <th>7</th>\n",
       "      <td>1.000</td>\n",
       "      <td>21.544347</td>\n",
       "      <td>2</td>\n",
       "    </tr>\n",
       "    <tr>\n",
       "      <th>8</th>\n",
       "      <td>1.000</td>\n",
       "      <td>21.544347</td>\n",
       "      <td>2</td>\n",
       "    </tr>\n",
       "    <tr>\n",
       "      <th>9</th>\n",
       "      <td>1.000</td>\n",
       "      <td>1291.549665</td>\n",
       "      <td>2</td>\n",
       "    </tr>\n",
       "    <tr>\n",
       "      <th>10</th>\n",
       "      <td>1.000</td>\n",
       "      <td>21.544347</td>\n",
       "      <td>3</td>\n",
       "    </tr>\n",
       "    <tr>\n",
       "      <th>11</th>\n",
       "      <td>1.000</td>\n",
       "      <td>21.544347</td>\n",
       "      <td>3</td>\n",
       "    </tr>\n",
       "    <tr>\n",
       "      <th>12</th>\n",
       "      <td>1.000</td>\n",
       "      <td>21.544347</td>\n",
       "      <td>3</td>\n",
       "    </tr>\n",
       "    <tr>\n",
       "      <th>13</th>\n",
       "      <td>1.000</td>\n",
       "      <td>166.810054</td>\n",
       "      <td>3</td>\n",
       "    </tr>\n",
       "    <tr>\n",
       "      <th>14</th>\n",
       "      <td>1.000</td>\n",
       "      <td>21.544347</td>\n",
       "      <td>3</td>\n",
       "    </tr>\n",
       "    <tr>\n",
       "      <th>15</th>\n",
       "      <td>1.000</td>\n",
       "      <td>21.544347</td>\n",
       "      <td>4</td>\n",
       "    </tr>\n",
       "    <tr>\n",
       "      <th>16</th>\n",
       "      <td>1.000</td>\n",
       "      <td>21.544347</td>\n",
       "      <td>4</td>\n",
       "    </tr>\n",
       "    <tr>\n",
       "      <th>17</th>\n",
       "      <td>1.000</td>\n",
       "      <td>21.544347</td>\n",
       "      <td>4</td>\n",
       "    </tr>\n",
       "    <tr>\n",
       "      <th>18</th>\n",
       "      <td>1.000</td>\n",
       "      <td>21.544347</td>\n",
       "      <td>4</td>\n",
       "    </tr>\n",
       "    <tr>\n",
       "      <th>19</th>\n",
       "      <td>1.000</td>\n",
       "      <td>21.544347</td>\n",
       "      <td>4</td>\n",
       "    </tr>\n",
       "    <tr>\n",
       "      <th>20</th>\n",
       "      <td>1.000</td>\n",
       "      <td>21.544347</td>\n",
       "      <td>5</td>\n",
       "    </tr>\n",
       "    <tr>\n",
       "      <th>21</th>\n",
       "      <td>1.000</td>\n",
       "      <td>21.544347</td>\n",
       "      <td>5</td>\n",
       "    </tr>\n",
       "    <tr>\n",
       "      <th>22</th>\n",
       "      <td>1.000</td>\n",
       "      <td>21.544347</td>\n",
       "      <td>5</td>\n",
       "    </tr>\n",
       "    <tr>\n",
       "      <th>23</th>\n",
       "      <td>1.000</td>\n",
       "      <td>21.544347</td>\n",
       "      <td>5</td>\n",
       "    </tr>\n",
       "    <tr>\n",
       "      <th>24</th>\n",
       "      <td>1.000</td>\n",
       "      <td>21.544347</td>\n",
       "      <td>5</td>\n",
       "    </tr>\n",
       "    <tr>\n",
       "      <th>25</th>\n",
       "      <td>1.000</td>\n",
       "      <td>2.782559</td>\n",
       "      <td>6</td>\n",
       "    </tr>\n",
       "    <tr>\n",
       "      <th>26</th>\n",
       "      <td>1.000</td>\n",
       "      <td>2.782559</td>\n",
       "      <td>6</td>\n",
       "    </tr>\n",
       "    <tr>\n",
       "      <th>27</th>\n",
       "      <td>1.000</td>\n",
       "      <td>2.782559</td>\n",
       "      <td>6</td>\n",
       "    </tr>\n",
       "    <tr>\n",
       "      <th>28</th>\n",
       "      <td>1.000</td>\n",
       "      <td>2.782559</td>\n",
       "      <td>6</td>\n",
       "    </tr>\n",
       "    <tr>\n",
       "      <th>29</th>\n",
       "      <td>1.000</td>\n",
       "      <td>2.782559</td>\n",
       "      <td>6</td>\n",
       "    </tr>\n",
       "    <tr>\n",
       "      <th>...</th>\n",
       "      <td>...</td>\n",
       "      <td>...</td>\n",
       "      <td>...</td>\n",
       "    </tr>\n",
       "    <tr>\n",
       "      <th>70</th>\n",
       "      <td>1.000</td>\n",
       "      <td>2.782559</td>\n",
       "      <td>15</td>\n",
       "    </tr>\n",
       "    <tr>\n",
       "      <th>71</th>\n",
       "      <td>1.000</td>\n",
       "      <td>2.782559</td>\n",
       "      <td>15</td>\n",
       "    </tr>\n",
       "    <tr>\n",
       "      <th>72</th>\n",
       "      <td>1.000</td>\n",
       "      <td>2.782559</td>\n",
       "      <td>15</td>\n",
       "    </tr>\n",
       "    <tr>\n",
       "      <th>73</th>\n",
       "      <td>1.000</td>\n",
       "      <td>2.782559</td>\n",
       "      <td>15</td>\n",
       "    </tr>\n",
       "    <tr>\n",
       "      <th>74</th>\n",
       "      <td>1.000</td>\n",
       "      <td>2.782559</td>\n",
       "      <td>15</td>\n",
       "    </tr>\n",
       "    <tr>\n",
       "      <th>75</th>\n",
       "      <td>1.000</td>\n",
       "      <td>2.782559</td>\n",
       "      <td>16</td>\n",
       "    </tr>\n",
       "    <tr>\n",
       "      <th>76</th>\n",
       "      <td>1.000</td>\n",
       "      <td>2.782559</td>\n",
       "      <td>16</td>\n",
       "    </tr>\n",
       "    <tr>\n",
       "      <th>77</th>\n",
       "      <td>1.000</td>\n",
       "      <td>2.782559</td>\n",
       "      <td>16</td>\n",
       "    </tr>\n",
       "    <tr>\n",
       "      <th>78</th>\n",
       "      <td>1.000</td>\n",
       "      <td>2.782559</td>\n",
       "      <td>16</td>\n",
       "    </tr>\n",
       "    <tr>\n",
       "      <th>79</th>\n",
       "      <td>1.000</td>\n",
       "      <td>2.782559</td>\n",
       "      <td>16</td>\n",
       "    </tr>\n",
       "    <tr>\n",
       "      <th>80</th>\n",
       "      <td>1.000</td>\n",
       "      <td>2.782559</td>\n",
       "      <td>17</td>\n",
       "    </tr>\n",
       "    <tr>\n",
       "      <th>81</th>\n",
       "      <td>1.000</td>\n",
       "      <td>2.782559</td>\n",
       "      <td>17</td>\n",
       "    </tr>\n",
       "    <tr>\n",
       "      <th>82</th>\n",
       "      <td>1.000</td>\n",
       "      <td>2.782559</td>\n",
       "      <td>17</td>\n",
       "    </tr>\n",
       "    <tr>\n",
       "      <th>83</th>\n",
       "      <td>1.000</td>\n",
       "      <td>2.782559</td>\n",
       "      <td>17</td>\n",
       "    </tr>\n",
       "    <tr>\n",
       "      <th>84</th>\n",
       "      <td>1.000</td>\n",
       "      <td>2.782559</td>\n",
       "      <td>17</td>\n",
       "    </tr>\n",
       "    <tr>\n",
       "      <th>85</th>\n",
       "      <td>1.000</td>\n",
       "      <td>2.782559</td>\n",
       "      <td>18</td>\n",
       "    </tr>\n",
       "    <tr>\n",
       "      <th>86</th>\n",
       "      <td>1.000</td>\n",
       "      <td>2.782559</td>\n",
       "      <td>18</td>\n",
       "    </tr>\n",
       "    <tr>\n",
       "      <th>87</th>\n",
       "      <td>1.000</td>\n",
       "      <td>2.782559</td>\n",
       "      <td>18</td>\n",
       "    </tr>\n",
       "    <tr>\n",
       "      <th>88</th>\n",
       "      <td>1.000</td>\n",
       "      <td>2.782559</td>\n",
       "      <td>18</td>\n",
       "    </tr>\n",
       "    <tr>\n",
       "      <th>89</th>\n",
       "      <td>1.000</td>\n",
       "      <td>2.782559</td>\n",
       "      <td>18</td>\n",
       "    </tr>\n",
       "    <tr>\n",
       "      <th>90</th>\n",
       "      <td>1.000</td>\n",
       "      <td>2.782559</td>\n",
       "      <td>19</td>\n",
       "    </tr>\n",
       "    <tr>\n",
       "      <th>91</th>\n",
       "      <td>1.000</td>\n",
       "      <td>2.782559</td>\n",
       "      <td>19</td>\n",
       "    </tr>\n",
       "    <tr>\n",
       "      <th>92</th>\n",
       "      <td>1.000</td>\n",
       "      <td>2.782559</td>\n",
       "      <td>19</td>\n",
       "    </tr>\n",
       "    <tr>\n",
       "      <th>93</th>\n",
       "      <td>1.000</td>\n",
       "      <td>2.782559</td>\n",
       "      <td>19</td>\n",
       "    </tr>\n",
       "    <tr>\n",
       "      <th>94</th>\n",
       "      <td>1.000</td>\n",
       "      <td>2.782559</td>\n",
       "      <td>19</td>\n",
       "    </tr>\n",
       "    <tr>\n",
       "      <th>95</th>\n",
       "      <td>1.000</td>\n",
       "      <td>2.782559</td>\n",
       "      <td>20</td>\n",
       "    </tr>\n",
       "    <tr>\n",
       "      <th>96</th>\n",
       "      <td>1.000</td>\n",
       "      <td>2.782559</td>\n",
       "      <td>20</td>\n",
       "    </tr>\n",
       "    <tr>\n",
       "      <th>97</th>\n",
       "      <td>1.000</td>\n",
       "      <td>2.782559</td>\n",
       "      <td>20</td>\n",
       "    </tr>\n",
       "    <tr>\n",
       "      <th>98</th>\n",
       "      <td>1.000</td>\n",
       "      <td>2.782559</td>\n",
       "      <td>20</td>\n",
       "    </tr>\n",
       "    <tr>\n",
       "      <th>99</th>\n",
       "      <td>1.000</td>\n",
       "      <td>2.782559</td>\n",
       "      <td>20</td>\n",
       "    </tr>\n",
       "  </tbody>\n",
       "</table>\n",
       "<p>100 rows × 3 columns</p>\n",
       "</div>"
      ],
      "text/plain": [
       "    CV AUC    Optimal C   L\n",
       "0    1.000     2.782559   1\n",
       "1    0.750     2.782559   1\n",
       "2    1.000     2.782559   1\n",
       "3    1.000     2.782559   1\n",
       "4    0.500     2.782559   1\n",
       "5    0.875     2.782559   2\n",
       "6    0.750     2.782559   2\n",
       "7    1.000    21.544347   2\n",
       "8    1.000    21.544347   2\n",
       "9    1.000  1291.549665   2\n",
       "10   1.000    21.544347   3\n",
       "11   1.000    21.544347   3\n",
       "12   1.000    21.544347   3\n",
       "13   1.000   166.810054   3\n",
       "14   1.000    21.544347   3\n",
       "15   1.000    21.544347   4\n",
       "16   1.000    21.544347   4\n",
       "17   1.000    21.544347   4\n",
       "18   1.000    21.544347   4\n",
       "19   1.000    21.544347   4\n",
       "20   1.000    21.544347   5\n",
       "21   1.000    21.544347   5\n",
       "22   1.000    21.544347   5\n",
       "23   1.000    21.544347   5\n",
       "24   1.000    21.544347   5\n",
       "25   1.000     2.782559   6\n",
       "26   1.000     2.782559   6\n",
       "27   1.000     2.782559   6\n",
       "28   1.000     2.782559   6\n",
       "29   1.000     2.782559   6\n",
       "..     ...          ...  ..\n",
       "70   1.000     2.782559  15\n",
       "71   1.000     2.782559  15\n",
       "72   1.000     2.782559  15\n",
       "73   1.000     2.782559  15\n",
       "74   1.000     2.782559  15\n",
       "75   1.000     2.782559  16\n",
       "76   1.000     2.782559  16\n",
       "77   1.000     2.782559  16\n",
       "78   1.000     2.782559  16\n",
       "79   1.000     2.782559  16\n",
       "80   1.000     2.782559  17\n",
       "81   1.000     2.782559  17\n",
       "82   1.000     2.782559  17\n",
       "83   1.000     2.782559  17\n",
       "84   1.000     2.782559  17\n",
       "85   1.000     2.782559  18\n",
       "86   1.000     2.782559  18\n",
       "87   1.000     2.782559  18\n",
       "88   1.000     2.782559  18\n",
       "89   1.000     2.782559  18\n",
       "90   1.000     2.782559  19\n",
       "91   1.000     2.782559  19\n",
       "92   1.000     2.782559  19\n",
       "93   1.000     2.782559  19\n",
       "94   1.000     2.782559  19\n",
       "95   1.000     2.782559  20\n",
       "96   1.000     2.782559  20\n",
       "97   1.000     2.782559  20\n",
       "98   1.000     2.782559  20\n",
       "99   1.000     2.782559  20\n",
       "\n",
       "[100 rows x 3 columns]"
      ]
     },
     "execution_count": 127,
     "metadata": {},
     "output_type": "execute_result"
    }
   ],
   "source": [
    "a = pd.DataFrame({\"L\":list(np.repeat(list(w.keys()),5)),\"CV AUC\":auc2,\"Optimal C\":C1})\n",
    "a[['CV AUC','Optimal C','L']]"
   ]
  },
  {
   "cell_type": "markdown",
   "metadata": {},
   "source": [
    "# I did, StratifiedKFold Validation first for 5 folds, and then within it I performed Logistic Regression CV within it. The L values are displayed above with optimal C and AUC."
   ]
  },
  {
   "cell_type": "code",
   "execution_count": 128,
   "metadata": {},
   "outputs": [],
   "source": [
    "d={}\n",
    "feat = ['mean','max','median']\n",
    "col = ['avg_rss12','var_rss12','avg_rss13','var_rss13','avg_rss23','var_rss23']\n",
    "for f in feat:\n",
    "    for c in col:\n",
    "        d[f+\"-\"+c]=[]\n",
    "d['activity']=[]\n",
    "        \n",
    "for activity in ['bending1','bending2','cycling','lying','sitting','standing','walking']:\n",
    "    path=\"C:\\\\Users\\\\milon\\\\Documents\\\\GitHub\\\\.ipynb_checkpoints\\\\test\\{0}\".format(activity)\n",
    "    for filename in os.listdir(path):\n",
    "        df = pd.read_csv(path+'\\\\'+filename,skiprows=4,usecols=range(0,7))\n",
    "        #print(path+'\\\\'+filename)\n",
    "        for c in col:\n",
    "            d[\"mean-\"+c].append((np.mean(df[c])))\n",
    "            \n",
    "            d[\"max-\"+c].append((np.max(df[c])))\n",
    "            d[\"median-\"+c].append((np.median(df[c])))\n",
    "            \n",
    "        d['activity'].append(activity)\n",
    "test=pd.DataFrame(d)\n",
    "df_test = pd.DataFrame(test)\n",
    "df_test['activity'] = np.where(((df_test['activity'] == 'bending1')|(df_test['activity'] == 'bending2')),'bending','not-bending')\n"
   ]
  },
  {
   "cell_type": "code",
   "execution_count": 129,
   "metadata": {},
   "outputs": [
    {
     "name": "stdout",
     "output_type": "stream",
     "text": [
      "Confusion Matrix for the test set: \n",
      "[[15  0]\n",
      " [ 3  1]]\n",
      "Accuracy 1.0\n"
     ]
    }
   ],
   "source": [
    "X_train4 = df_train.loc[:,df_train.columns!='activity']\n",
    "y_train4 = df_train['activity']\n",
    "X_test1 = df_test.loc[:,df_test.columns!='activity']\n",
    "y_test = df_test['activity']\n",
    "\n",
    "model = LogisticRegression(penalty='l1',C=1291.54,solver='liblinear')\n",
    "model = model.fit(X_train4, y_train4)\n",
    "actual9 = [1 if i == 'bending' else 0 for i in y_test.tolist()]\n",
    "predicted9 = [1 if i == 'bending' else 0 for i in model.predict(X_test1).tolist()]\n",
    "\n",
    "cm = metrics.confusion_matrix(actual9,predicted9)\n",
    "print(\"Confusion Matrix for the test set: \")\n",
    "print(cm)\n",
    "\n",
    "fpr5, tpr5, _ = roc_curve(actual9,predicted9)\n",
    "r = auc(fpr5, tpr5)\n",
    "\n",
    "print(\"Accuracy\",model.score(X_train4,y_train4))"
   ]
  },
  {
   "cell_type": "code",
   "execution_count": 130,
   "metadata": {},
   "outputs": [
    {
     "name": "stdout",
     "output_type": "stream",
     "text": [
      "P-values\n",
      "[8.64901509e-02 9.75134246e-02 2.78418198e-03 2.06804234e-01\n",
      " 1.38996148e-07 1.48773571e-01 8.80488392e-01 9.93981894e-02\n",
      " 1.91456375e-03 6.77429629e-01 1.36708403e-05 5.30522366e-02\n",
      " 6.58100364e-02 1.38885410e-01 2.36043400e-03 1.15400700e-01\n",
      " 2.57752589e-07 1.27504091e-01]\n"
     ]
    }
   ],
   "source": [
    "j,k=chi2(X_test1,y_test)\n",
    "print(\"P-values\")\n",
    "print(k)"
   ]
  },
  {
   "cell_type": "markdown",
   "metadata": {},
   "source": [
    "# e ii Compare the L1-penalized with variable selection using p-values. Which one performs better? Which one is easier to implement?"
   ]
  },
  {
   "cell_type": "markdown",
   "metadata": {},
   "source": [
    "It is easier to perfrom L1 penalized method because we only have to pass 'penalty' parameter eqaul to L1 in the function and so it is programmatically easier to implement.\n",
    "### For L1-penalization, L=1\n",
    "### For Backward Selection, L=1\n",
    "I obtained accuracy = 1.0 for both the methods, since the model is performing accurately.\n",
    "We have dealt with the problem of class imbalance using StratifiedKFold Cross Validation."
   ]
  },
  {
   "cell_type": "markdown",
   "metadata": {},
   "source": [
    "# f i Multi-class Classification"
   ]
  },
  {
   "cell_type": "code",
   "execution_count": null,
   "metadata": {},
   "outputs": [
    {
     "name": "stderr",
     "output_type": "stream",
     "text": [
      "C:\\Users\\milon\\Anaconda3\\lib\\site-packages\\sklearn\\model_selection\\_split.py:605: Warning: The least populated class in y has only 4 members, which is too few. The minimum number of members in any class cannot be less than n_splits=5.\n",
      "  % (min_groups, self.n_splits)), Warning)\n"
     ]
    }
   ],
   "source": [
    "from sklearn.linear_model import LogisticRegression\n",
    "from sklearn.model_selection import train_test_split\n",
    "from sklearn.preprocessing import StandardScaler\n",
    "from sklearn.utils import check_random_state\n",
    "h={}\n",
    "aq={}\n",
    "params = ['mean','median','max']\n",
    "var1 = ['avg_rss12','var_rss12','avg_rss13','var_rss13','avg_rss23','var_rss23']\n",
    "for l in range(1,21):\n",
    "    d_train = {}\n",
    "    for v in var1:\n",
    "        for p in params:\n",
    "            d_train[v+\"_\"+p] = []\n",
    "    d_train['activity'] = []\n",
    "    c=0\n",
    "    for activity in ['bending1','bending2','cycling','lying','sitting','standing','walking']:\n",
    "        path=\"C:\\\\Users\\\\milon\\\\Documents\\\\GitHub\\\\.ipynb_checkpoints\\\\train\\{0}\".format(activity)\n",
    "        for filename in os.listdir(path):\n",
    "            df = pd.read_csv(path+'\\\\'+filename,skiprows=4,usecols=range(0,7))\n",
    "            #print(path+'\\\\'+filename)\n",
    "            df_l=np.array_split(df,l)\n",
    "            for li in df_l:\n",
    "                for v in var1:\n",
    "                    d_train[v+\"_mean\"].append((np.mean(df[v])))\n",
    "                    d_train[v+\"_median\"].append((np.median(df[v])))\n",
    "                    d_train[v+\"_max\"].append((np.max(df[v])))\n",
    "                d_train['activity'].append(c)\n",
    "        c=c+1\n",
    "    df_train = pd.DataFrame(d_train)\n",
    "    x=df_train.loc[:,df_train.columns!='activity']\n",
    "    y=df_train['activity']\n",
    "    \n",
    "    x1=x.values\n",
    "    norm=preprocessing.MinMaxScaler()\n",
    "    scaled=norm.fit_transform(x1)\n",
    "    X=pd.DataFrame(scaled,columns=x.columns)\n",
    "    \n",
    "    a1=[]\n",
    "    c1=[]\n",
    "    s=[]\n",
    "    \n",
    "    cv1=StratifiedKFold(n_splits=5)\n",
    "    for train_index,val_index in cv1.split(X,y):\n",
    "        X_train, X_val = X.iloc[train_index.tolist(),:], X.iloc[val_index.tolist(),:]\n",
    "        y_train, y_val = y[train_index.tolist()], y[val_index.tolist()]\n",
    "        if len(np.unique(y_val)) == 1:\n",
    "            continue\n",
    "        reg2 = LogisticRegressionCV(Cs=10,penalty='l1',solver='liblinear')\n",
    "        reg2 = reg2.fit(X_train, y_train)\n",
    "        c1.append(reg2.C_)\n",
    "        sco=reg2.score(X_val,y_val)\n",
    "        s.append(sco)\n",
    "       \n",
    "    aq[l]=max(s)\n",
    "    \n",
    "    h[l]=list(zip(c1))"
   ]
  },
  {
   "cell_type": "code",
   "execution_count": null,
   "metadata": {},
   "outputs": [],
   "source": [
    "aq"
   ]
  },
  {
   "cell_type": "markdown",
   "metadata": {},
   "source": [
    "## From above, we see that best L=13"
   ]
  },
  {
   "cell_type": "code",
   "execution_count": null,
   "metadata": {},
   "outputs": [],
   "source": [
    "confm=metrics.confusion_matrix(y_val,reg2.predict(X_val))\n",
    "print(confm)"
   ]
  },
  {
   "cell_type": "code",
   "execution_count": null,
   "metadata": {},
   "outputs": [],
   "source": [
    "s"
   ]
  },
  {
   "cell_type": "code",
   "execution_count": null,
   "metadata": {},
   "outputs": [],
   "source": [
    "import numpy as np\n",
    "import matplotlib.pyplot as plt\n",
    "from itertools import cycle\n",
    "\n",
    "from sklearn import svm, datasets\n",
    "from sklearn.metrics import roc_curve, auc\n",
    "from sklearn.model_selection import train_test_split\n",
    "from sklearn.preprocessing import label_binarize\n",
    "from sklearn.multiclass import OneVsRestClassifier\n",
    "from scipy import interp\n",
    "\n",
    "y = label_binarize(y_train, classes=[0, 1, 2,3,4,5,6])\n",
    "n_classes = y.shape[1]\n",
    "y1 = label_binarize(y_val, classes=[0, 1, 2,3,4,5,6])\n",
    "n_classes = y.shape[1]\n",
    "classifier = OneVsRestClassifier(LogisticRegressionCV(cv=StratifiedKFold(5),penalty=\"l1\",solver=\"liblinear\"))\n",
    "classifier.fit(X_train,y)\n",
    "pred=classifier.predict(X_val)\n",
    "score=classifier.fit(X_train, y).decision_function(X_val)\n",
    "fpr = dict()\n",
    "tpr = dict()\n",
    "roc_auc = dict()\n",
    "for i in range(n_classes):\n",
    "    fpr[i], tpr[i], _ = roc_curve(y1[:, i], score[:, i])\n",
    "    roc_auc[i] = auc(fpr[i], tpr[i])\n",
    "\n",
    "fpr[\"micro\"], tpr[\"micro\"], _ = roc_curve(y1.ravel(), score.ravel())\n",
    "roc_auc[\"micro\"] = auc(fpr[\"micro\"], tpr[\"micro\"])\n",
    "\n",
    "all_fpr = np.unique(np.concatenate([fpr[i] for i in range(n_classes)]))\n",
    "\n",
    "# Then interpolate all ROC curves at this points\n",
    "mean_tpr = np.zeros_like(all_fpr)\n",
    "for i in range(n_classes):\n",
    "    mean_tpr += interp(all_fpr, fpr[i], tpr[i])\n",
    "\n",
    "mean_tpr /= n_classes\n",
    "\n",
    "fpr[\"macro\"] = all_fpr\n",
    "tpr[\"macro\"] = mean_tpr\n",
    "roc_auc[\"macro\"] = auc(fpr[\"macro\"], tpr[\"macro\"])\n",
    "\n",
    "plt.figure()\n",
    "plt.plot(fpr[\"micro\"], tpr[\"micro\"],\n",
    "         label='micro-average ROC curve (area = {0:0.2f})'\n",
    "               ''.format(roc_auc[\"micro\"]),\n",
    "         color='deeppink', linestyle=':', linewidth=4)\n",
    "\n",
    "plt.plot(fpr[\"macro\"], tpr[\"macro\"],\n",
    "         label='macro-average ROC curve (area = {0:0.2f})'\n",
    "               ''.format(roc_auc[\"macro\"]),\n",
    "         color='navy', linestyle=':', linewidth=4)\n",
    "\n",
    "colors = cycle(['aqua', 'darkorange', 'cornflowerblue','pink','yellow','maroon','darkblue'])\n",
    "lw=[0,1,2,3,4,5,6]\n",
    "for i, color in zip(range(n_classes), colors):\n",
    "    plt.plot(fpr[i], tpr[i], color=color, lw=lw,\n",
    "             label='ROC curve of class {0} (area = {1:0.2f})'\n",
    "             ''.format(i, roc_auc[i]))\n",
    "plt.plot([0, 1], [0, 1], 'k--', lw=lw[i])\n",
    "plt.xlim([0.0, 1.0])\n",
    "plt.ylim([0.0, 1.05])\n",
    "plt.xlabel('False Positive Rate')\n",
    "plt.ylabel('True Positive Rate')\n",
    "plt.title('Some extension of Receiver operating characteristic to multi-class')\n",
    "plt.legend(loc=\"lower right\")\n",
    "plt.show()"
   ]
  },
  {
   "cell_type": "markdown",
   "metadata": {},
   "source": [
    "# f ii "
   ]
  },
  {
   "cell_type": "code",
   "execution_count": null,
   "metadata": {},
   "outputs": [],
   "source": [
    "d={}\n",
    "feat = ['mean','max','Q1']\n",
    "col = ['avg_rss12','var_rss12','avg_rss13','var_rss13','avg_rss23','var_rss23']\n",
    "for f in feat:\n",
    "    for c in col:\n",
    "        d[f+\"-\"+c]=[]\n",
    "d['activity']=[]\n",
    "        \n",
    "for activity in ['bending1','bending2','cycling','lying','sitting','standing','walking']:\n",
    "    path=\"C:\\\\Users\\\\milon\\\\Documents\\\\GitHub\\\\.ipynb_checkpoints\\\\test\\{0}\".format(activity)\n",
    "    for filename in os.listdir(path):\n",
    "        df = pd.read_csv(path+'\\\\'+filename,skiprows=4,usecols=range(0,7))\n",
    "        #print(path+'\\\\'+filename)\n",
    "        for c in col:\n",
    "            d[\"mean-\"+c].append((np.mean(df[c])))\n",
    "            \n",
    "            d[\"max-\"+c].append((np.max(df[c])))\n",
    "            d[\"Q1-\"+c].append((np.percentile(df[c],25)))\n",
    "            \n",
    "        d['activity'].append(activity)\n",
    "test=pd.DataFrame(d)\n",
    "df_test = pd.DataFrame(test)\n",
    "df_test['activity'] = np.where(((df_test['activity'] == 'bending1')|(df_test['activity'] == 'bending2')),'bending','not-bending')\n",
    "X1 = df_test.loc[:,df_test.columns!='activity']\n",
    "y1 = df_test['activity']"
   ]
  },
  {
   "cell_type": "code",
   "execution_count": null,
   "metadata": {},
   "outputs": [],
   "source": [
    "d={}\n",
    "feat = ['mean','max','Q1']\n",
    "col = ['avg_rss12','var_rss12','avg_rss13','var_rss13','avg_rss23','var_rss23']\n",
    "for f in feat:\n",
    "    for c in col:\n",
    "        d[f+\"-\"+c]=[]\n",
    "d['activity']=[]\n",
    "        \n",
    "for activity in ['bending1','bending2','cycling','lying','sitting','standing','walking']:\n",
    "    path=\"C:\\\\Users\\\\milon\\\\Documents\\\\GitHub\\\\.ipynb_checkpoints\\\\test\\{0}\".format(activity)\n",
    "    for filename in os.listdir(path):\n",
    "        df = pd.read_csv(path+'\\\\'+filename,skiprows=4,usecols=range(0,7))\n",
    "        #print(path+'\\\\'+filename)\n",
    "        for c in col:\n",
    "            d[\"mean-\"+c].append((np.mean(df[c])))\n",
    "            \n",
    "            d[\"max-\"+c].append((np.max(df[c])))\n",
    "            d[\"Q1-\"+c].append((np.percentile(df[c],25)))\n",
    "            \n",
    "        d['activity'].append(activity)\n",
    "train=pd.DataFrame(d)\n",
    "df_train = pd.DataFrame(train)\n",
    "\n",
    "X2 = df_train.loc[:,df_test.columns!='activity']\n",
    "y2 = df_train['activity']"
   ]
  },
  {
   "cell_type": "code",
   "execution_count": null,
   "metadata": {},
   "outputs": [],
   "source": [
    "from sklearn.naive_bayes import GaussianNB, MultinomialNB\n",
    "act_no ={'bending1':0,'bending2':1,'cycling':2,'lying':3,'sitting':4,'standing':5,'walking':6}\n",
    "gausnb= GaussianNB() \n",
    "y_pred_gauss=[]\n",
    "y_true_gauss=[]\n",
    "gb=gausnb.fit(X2, y2)\n",
    "gb_pred=gb.predict(X1)\n",
    "for i in list(gb_pred):\n",
    "    y_pred_gauss.append(act_no[i])\n",
    "for i in list(y1):\n",
    "    y_true_gauss.append(act_no[i])"
   ]
  },
  {
   "cell_type": "code",
   "execution_count": null,
   "metadata": {},
   "outputs": [],
   "source": [
    "confm1=metrics.confusion_matrix(y_true_gauss, y_pred_gauss)\n",
    "print(confm1)\n",
    "c2=gausnb.score(X1,y1)\n",
    "print(\"Accuracy=\",c2)"
   ]
  },
  {
   "cell_type": "code",
   "execution_count": null,
   "metadata": {},
   "outputs": [],
   "source": [
    "act_no ={'bending1':0,'bending2':1,'cycling':2,'lying':3,'sitting':4,'standing':5,'walking':6}\n",
    "multinb = MultinomialNB() \n",
    "y_pred_multi=[]\n",
    "y_true_multi=[]\n",
    "mnb=multinb.fit(X2, y2)\n",
    "mnb_pred=mnb.predict(X1)\n",
    "for i in list(mnb_pred):\n",
    "    y_pred_multi.append(act_no[i])\n",
    "for i in list(y1):\n",
    "    y_true_multi.append(act_no[i])\n",
    "\n",
    "confm2=metrics.confusion_matrix(y_true_multi, y_pred_multi)\n",
    "print(confm2)\n",
    "c1=multinb.score(X1,y1)\n",
    "print(\"Accuracy=\",c1)"
   ]
  },
  {
   "cell_type": "markdown",
   "metadata": {},
   "source": [
    "f ii) Here we see that Gaussian perfroms better than the Multinomial classification"
   ]
  },
  {
   "cell_type": "code",
   "execution_count": null,
   "metadata": {},
   "outputs": [],
   "source": []
  }
 ],
 "metadata": {
  "kernelspec": {
   "display_name": "Python 3",
   "language": "python",
   "name": "python3"
  },
  "language_info": {
   "codemirror_mode": {
    "name": "ipython",
    "version": 3
   },
   "file_extension": ".py",
   "mimetype": "text/x-python",
   "name": "python",
   "nbconvert_exporter": "python",
   "pygments_lexer": "ipython3",
   "version": "3.6.5"
  }
 },
 "nbformat": 4,
 "nbformat_minor": 2
}
